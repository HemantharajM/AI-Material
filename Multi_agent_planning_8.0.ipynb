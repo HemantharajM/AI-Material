{
  "nbformat": 4,
  "nbformat_minor": 0,
  "metadata": {
    "colab": {
      "name": "Multi_agent_planning.ipynb",
      "version": "0.3.2",
      "provenance": [],
      "collapsed_sections": [],
      "include_colab_link": true
    },
    "kernelspec": {
      "name": "python3",
      "display_name": "Python 3"
    },
    "accelerator": "GPU"
  },
  "cells": [
    {
      "cell_type": "markdown",
      "metadata": {
        "id": "view-in-github",
        "colab_type": "text"
      },
      "source": [
        "<a href=\"https://colab.research.google.com/github/HemantharajM/AI-Material/blob/master/Multi_agent_planning_8.0.ipynb\" target=\"_parent\"><img src=\"https://colab.research.google.com/assets/colab-badge.svg\" alt=\"Open In Colab\"/></a>"
      ]
    },
    {
      "cell_type": "code",
      "metadata": {
        "id": "bmknuX_Phmq2",
        "colab_type": "code",
        "colab": {}
      },
      "source": [
        "import sys\n",
        "import matplotlib.pyplot as plt\n",
        "import numpy as np\n",
        "import torch\n",
        "from torch import autograd\n",
        "from torch.utils.data import DataLoader\n",
        "from torch.nn.parameter import Parameter\n",
        "\n",
        "import torch.nn.functional as F"
      ],
      "execution_count": 0,
      "outputs": []
    },
    {
      "cell_type": "code",
      "metadata": {
        "id": "PIK5QJI4NN51",
        "colab_type": "code",
        "colab": {}
      },
      "source": [
        "import queue"
      ],
      "execution_count": 0,
      "outputs": []
    },
    {
      "cell_type": "code",
      "metadata": {
        "id": "X42d4TX1iLxY",
        "colab_type": "code",
        "outputId": "10a556f2-8acf-4d2e-ef40-18b7b468b83c",
        "colab": {
          "resources": {
            "http://localhost:8080/nbextensions/google.colab/files.js": {
              "data": "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",
              "ok": true,
              "headers": [
                [
                  "content-type",
                  "application/javascript"
                ]
              ],
              "status": 200,
              "status_text": ""
            }
          },
          "base_uri": "https://localhost:8080/",
          "height": 75
        }
      },
      "source": [
        "from google.colab import files\n",
        "uploaded = files.upload()"
      ],
      "execution_count": 19,
      "outputs": [
        {
          "output_type": "display_data",
          "data": {
            "text/html": [
              "\n",
              "     <input type=\"file\" id=\"files-0beb00f5-64f2-4daa-bc21-a00fafd74f18\" name=\"files[]\" multiple disabled />\n",
              "     <output id=\"result-0beb00f5-64f2-4daa-bc21-a00fafd74f18\">\n",
              "      Upload widget is only available when the cell has been executed in the\n",
              "      current browser session. Please rerun this cell to enable.\n",
              "      </output>\n",
              "      <script src=\"/nbextensions/google.colab/files.js\"></script> "
            ],
            "text/plain": [
              "<IPython.core.display.HTML object>"
            ]
          },
          "metadata": {
            "tags": []
          }
        },
        {
          "output_type": "stream",
          "text": [
            "Saving MA_P_6_2_2.pth to MA_P_6_2_2.pth\n"
          ],
          "name": "stdout"
        }
      ]
    },
    {
      "cell_type": "code",
      "metadata": {
        "id": "4OfSg3OHroSs",
        "colab_type": "code",
        "colab": {}
      },
      "source": [
        "def action(S,val,obst,imsize):\n",
        "    if val == 0 and S[1].item() > 0:\n",
        "        if obst[S[0].item()][S[1].item()-1] == 0.0 :\n",
        "            return torch.tensor([S[0].item(),S[1].item()-1]), False\n",
        "        else :\n",
        "            return torch.tensor([S[0].item(),S[1].item()]), True\n",
        "    elif val == 1 and S[0].item() > 0:\n",
        "        if obst[S[0].item()-1][S[1].item()] == 0.0 :\n",
        "            return torch.tensor([S[0].item()-1,S[1].item()]), False\n",
        "        else :\n",
        "            return torch.tensor([S[0].item(),S[1].item()]), True\n",
        "    elif val == 2 and S[1].item() < (imsize -1):\n",
        "        if obst[S[0].item()][S[1].item()+1] == 0.0 :\n",
        "            return torch.tensor([S[0].item(),S[1].item()+1]), False\n",
        "        else:\n",
        "            return torch.tensor([S[0].item(),S[1].item()]), True\n",
        "    elif val == 3 and S[0].item() < (imsize -1):\n",
        "        if obst[S[0].item()+1][S[1].item()] == 0.0 :\n",
        "            return torch.tensor([S[0].item()+1,S[1].item()]), False\n",
        "        else:\n",
        "            return torch.tensor([S[0].item(),S[1].item()]), True\n",
        "    else :\n",
        "        return S, True"
      ],
      "execution_count": 0,
      "outputs": []
    },
    {
      "cell_type": "code",
      "metadata": {
        "id": "U_uTgBOqrnv8",
        "colab_type": "code",
        "colab": {}
      },
      "source": [
        "def rand_play(X,a_s,imsize,obst):\n",
        "    #find possible action\n",
        "    Action = []\n",
        "    \n",
        "    if (a_s[1] -1) >= 0:\n",
        "        if X[0][a_s[0]][a_s[1]-1] and (not X[2][a_s[0]][a_s[1]-1]):\n",
        "            Action.append(0)\n",
        "    if (a_s[0] -1 ) >= 0:\n",
        "        if X[0][a_s[0]-1][a_s[1]] and (not X[2][a_s[0]-1][a_s[1]]):\n",
        "            Action.append(1)\n",
        "    if (a_s[1] +1 ) < imsize:\n",
        "        if X[0][a_s[0]][a_s[1]+1] and (not X[2][a_s[0]][a_s[1]+1]):\n",
        "            Action.append(2)\n",
        "    if (a_s[0] + 1) < imsize:    \n",
        "        if X[0][a_s[0]+1][a_s[1]] and (not X[2][a_s[0]+1][a_s[1]]):\n",
        "            Action.append(3)\n",
        "    \n",
        "    if len(Action) != 0:\n",
        "        act = np.random.choice(Action)\n",
        "        new_state,_ = action(a_s,act,obst,imsize)\n",
        "    else:\n",
        "        new_state = a_s\n",
        "    \n",
        "    return new_state"
      ],
      "execution_count": 0,
      "outputs": []
    },
    {
      "cell_type": "code",
      "metadata": {
        "id": "AqwQWBrDr5on",
        "colab_type": "code",
        "colab": {}
      },
      "source": [
        "def goal_reach_check(agent_state,goal,goal_count,goal_reached):\n",
        "    token = 0\n",
        "    v = 0\n",
        "    for z in goal:\n",
        "        #check goal is already reached\n",
        "        if goal_reached[v] == 0:\n",
        "            #if goal is not reached and compare with agent state\n",
        "            if agent_state[0].item() == z[0] and agent_state[1].item() == z[1]:\n",
        "                goal_reached[v] = 1\n",
        "                goal_count += 1\n",
        "                token = 1\n",
        "        v = v+1    \n",
        "    return token,goal_count,goal_reached"
      ],
      "execution_count": 0,
      "outputs": []
    },
    {
      "cell_type": "code",
      "metadata": {
        "id": "hBeK-UKX5rPr",
        "colab_type": "code",
        "colab": {}
      },
      "source": [
        "def agent_env(X,agent_state,imsize,avoid_goal,token):\n",
        "    \n",
        "    Y = torch.zeros([1,5,imsize,imsize])\n",
        "    Y[0,0,:,:] = (X[0] == 0)\n",
        "    Y[0,1,:,:] = (X[0] == 1)\n",
        "    Y[0,2,:,:] = X[1].clone()\n",
        "    \n",
        "    X[2][agent_state[0]][agent_state[1]] = 0.0\n",
        "     \n",
        "    if token :\n",
        "        Y[0,3,:,:] = X[2].clone()\n",
        "    else :\n",
        "        Y[0,3,:,:] = torch.zeros_like(X[2])\n",
        "\n",
        "        \n",
        "    #avoid goal \n",
        "    for i in avoid_goal:\n",
        "        Y[0,2,i[0],i[1]] = 0.0\n",
        "    \n",
        "    \n",
        "    Y[0,1,:,:] = Y[0,1,:,:] - Y[0,3,:,:] \n",
        "    Y[0,0,:,:] = Y[0,0,:,:] + Y[0,3,:,:]\n",
        "      \n",
        "    Y[0,3,:,:] = -1 * Y[0,3,:,:]\n",
        "    \n",
        "    Y[0,4,agent_state[0],agent_state[1]] = 1.0\n",
        "    \n",
        "    \n",
        "    Y = Y.float()\n",
        "   \n",
        "    return Y"
      ],
      "execution_count": 0,
      "outputs": []
    },
    {
      "cell_type": "code",
      "metadata": {
        "id": "_HBTC5hUsFoy",
        "colab_type": "code",
        "colab": {}
      },
      "source": [
        "def agent_prediction(model,X,whole_traj_act,goal,imsize,max_random_play):\n",
        "    #convert specific domain to generic domains\n",
        "    X = abs(X)\n",
        "    \n",
        "    model.eval() \n",
        "    correct_goal,total_goal,traj_step_error,goal_count = 0.0,0.0,0.0,0.0\n",
        "    \n",
        "    #store agent initial state\n",
        "    inter = np.where(X[2] == 1.0)\n",
        "    agent_state = np.column_stack([inter[0],inter[1]])\n",
        "    n_agent = agent_state.shape[0]\n",
        "    \n",
        "    agent_traj = [[agent_state[i].copy()] for i in range(n_agent)]\n",
        "    \n",
        "    #store number agent still playing\n",
        "    current_play_agent = [1.0 for i in range(n_agent)]\n",
        "    \n",
        "    current_play_agent = np.array(current_play_agent)\n",
        "    \n",
        "    #keep which is reached\n",
        "    goal_reached = np.zeros([goal.size])\n",
        "    \n",
        "    #store each agent random play chances\n",
        "    random_play = np.zeros(n_agent)\n",
        "    max_random_play = max_random_play\n",
        "    \n",
        "    play = 0\n",
        "    while current_play_agent.sum() != 0.0 and play < 20:\n",
        "        play += 1\n",
        "        for i in range(n_agent):\n",
        "            \n",
        "            if current_play_agent[i] == 1.0:  \n",
        "                Input = agent_env(X.clone(),agent_state[i],imsize,[],1)\n",
        "                Input = Input.to(device)\n",
        "                S1 = torch.tensor(agent_state[i][0])\n",
        "                S1 = S1.to(device)\n",
        "                S2 = torch.tensor(agent_state[i][1])\n",
        "                S2 = S2.to(device)\n",
        "                output,prediction,_,_ = model(Input,S1,S2)\n",
        "                _,index = torch.max(output,dim=1)\n",
        "                \n",
        "                #check agent (index = 4) means stop planning\n",
        "                if index == 4:\n",
        "                    #token whether agent reach goal or not\n",
        "                    token,goal_count,goal_reached = goal_reach_check(agent_state[i],goal,goal_count,goal_reached)\n",
        "                    if token:\n",
        "                        current_play_agent[i] = 0.0\n",
        "                    else:\n",
        "                        if random_play[i] >= max_random_play:\n",
        "                            current_play_agent[i] = 0.0\n",
        "                        else:\n",
        "                            X[2][agent_state[i][0]][agent_state[i][1]] = 0.0\n",
        "                            agent_state[i] =rand_play(X,agent_state[i].copy(),imsize)\n",
        "                            random_play[i] += 1\n",
        "                            X[2][agent_state[i][0]][agent_state[i][1]] = 1.0\n",
        "                            agent_traj[i].append(agent_state[i].copy())\n",
        "    \n",
        "                else:\n",
        "                    \n",
        "                    agent_new_state,obst = action(S=agent_state[i],val=index,imsize=imsize,obst=Input[0,0,:,:])\n",
        "                    \n",
        "                    if obst:\n",
        "                        current_play_agent[i] = 0.0\n",
        "                        continue\n",
        "                    X[2][agent_state[i][0]][agent_state[i][1]] = 0.0\n",
        "                    agent_state[i] = agent_new_state\n",
        "                    #check agent reach any obstacle and push it into stop\n",
        "                    i_1 = agent_state[i][0]\n",
        "                    i_2 = agent_state[i][1]\n",
        "                    if X[0][i_1][i_2].item() == 0.0 and X[1][i_1][i_2].item() == 0.0:\n",
        "                        current_play_agent[i] = 0.0\n",
        "                        \n",
        "                    X[2][agent_state[i][0]][agent_state[i][1]] = 1.0\n",
        "                    agent_traj[i].append(agent_state[i].copy())\n",
        "                    \n",
        "                    #stop agent which moves back and forward two on the goal\n",
        "                    if len(agent_traj[i]) > 3 and (agent_traj[i][-1] == agent_traj[i][-3]).sum() == 2 and (agent_traj[i][-2] == agent_traj[i][-4]).sum() == 2:\n",
        "                        \n",
        "                        inter = agent_traj[i][-1]\n",
        "                        token,goal_count,goal_reached = goal_reach_check(inter,goal,goal_count,goal_reached)\n",
        "                        if token:\n",
        "                            current_play_agent[i] = 0.0\n",
        "                        else:     \n",
        "                            inter = agent_traj[i][-2]\n",
        "                            token,goal_count,goal_reached = goal_reach_check(inter,goal,goal_count,goal_reached)\n",
        "                            if token:\n",
        "                                current_play_agent[i] = 0.0\n",
        "                                agent_traj[i].pop(-1)\n",
        "                            else:\n",
        "                                if random_play[i] < max_random_play:\n",
        "                                    X[2][agent_state[i][0]][agent_state[i][1]] = 0.0\n",
        "                                    \n",
        "                                    agent_state[i] =rand_play(X,agent_state[i].copy(),imsize)\n",
        "                                    random_play[i] += 1\n",
        "                                    X[2][agent_state[i][0]][agent_state[i][1]] = 1.0\n",
        "                                    agent_traj[i].append(agent_state[i].copy())\n",
        "                                else:\n",
        "                                    current_play_agent[i] = 0.0\n",
        "                    \n",
        "    for j in range(len(whole_traj_act)):\n",
        "        inter =  whole_traj_act[j][0][0].numpy() \n",
        "        for i in range(len(agent_traj)):\n",
        "            if inter[0] == agent_traj[i][0][0] and inter[1] == agent_traj[i][0][1]:\n",
        "                actual_len = len(agent_traj[i])\n",
        "                pred_len = len(whole_traj_act[j][0])\n",
        "                traj_step_error += (abs(pred_len - actual_len))\n",
        "    \n",
        "    \n",
        "    correct_goal = goal_count\n",
        "    \n",
        "    if n_agent > len(goal):\n",
        "        total_goal = len(goal)\n",
        "    else:\n",
        "        total_goal =  n_agent\n",
        "        \n",
        "    traj_step = -1000\n",
        "    for i in agent_traj:\n",
        "        if len(i) > traj_step:\n",
        "            traj_step = len(i)\n",
        "    \n",
        "    return correct_goal,total_goal,(traj_step),agent_traj"
      ],
      "execution_count": 0,
      "outputs": []
    },
    {
      "cell_type": "code",
      "metadata": {
        "id": "5AMtOi-jOp49",
        "colab_type": "code",
        "colab": {}
      },
      "source": [
        "def visualization(dom,whole_traj_act,traj):\n",
        "    fig, ax = plt.subplots()\n",
        "    implot = plt.imshow(dom, cmap=\"Greys_r\")\n",
        "\n",
        "    opti = []\n",
        "    for i in whole_traj_act:\n",
        "        opti.append(i[0])\n",
        "\n",
        "    for i in opti:\n",
        "        opti_arr =  []\n",
        "        for j in i:\n",
        "            opti_arr.append([j[0].item(),j[1].item()])\n",
        "\n",
        "        opti_ar = np.array(opti_arr)\n",
        "        ax.plot(opti_ar[:,1], opti_ar[:,0], c='b')\n",
        "\n",
        "    start = []\n",
        "    for i in traj:\n",
        "        start.append(i[0])\n",
        "\n",
        "    #start = np.array(start)\n",
        "    for i in start:\n",
        "        ax.plot(i[1], i[0], '-s')\n",
        "\n",
        "    start = []\n",
        "    for i in traj:\n",
        "        path = []\n",
        "        for j in i:\n",
        "            path.append(j)\n",
        "\n",
        "        path = np.array(path)\n",
        "        ax.plot(path[:, 1], path[:, 0], '-X', c='r')\n",
        "\n",
        " #   for i in goal:\n",
        " #       ax.plot(i[1], i[0], '-s')\n",
        "    legend = ax.legend(loc='upper right', shadow=False)\n",
        "#    for label in legend.get_texts():\n",
        "#        label.set_fontsize('x-small')  # the legend text size\n",
        "#    for label in legend.get_lines():\n",
        "#        label.set_linewidth(0.5)  # the legend line width\n",
        "    plt.draw()\n",
        "    plt.show()"
      ],
      "execution_count": 0,
      "outputs": []
    },
    {
      "cell_type": "code",
      "metadata": {
        "id": "DylpcQDU32YN",
        "colab_type": "code",
        "colab": {}
      },
      "source": [
        "def next_goal(Input,v_in,agent_pose,imsize,n_goal,goal_pose,avoid_goal) :\n",
        "    visited = Input[0,0,:,:].clone()\n",
        "    distance = torch.zeros_like(visited)\n",
        "    parent = torch.ones_like(visited) * -1\n",
        "\n",
        "    v_in = v_in.squeeze()\n",
        "  \n",
        "    pose = agent_pose\n",
        "\n",
        "    visited[pose[0]][pose[1]] = 1.0\n",
        "    distance[pose[0]][pose[1]] = 0.0\n",
        "    parent[pose[0]][pose[1]] = 4\n",
        "\n",
        "    av = len(avoid_goal)\n",
        "    #valid goal location\n",
        "    valid = [1.0 for i in range(n_goal)]\n",
        "    for i in range(n_goal):\n",
        "        for j in range(av):\n",
        "            if avoid_goal[j][0] == goal_pose[i][0] and avoid_goal[j][1] == goal_pose[i][1]:\n",
        "                valid[i] = 0.0\n",
        "                \n",
        "    S = queue.Queue()\n",
        "    S.put(pose)\n",
        "\n",
        "    dist = 0\n",
        "    \n",
        "    while not S.empty():\n",
        "     \n",
        "        node = S.get()\n",
        "\n",
        "        node = torch.tensor(node)\n",
        "        pose = node.clone()\n",
        "\n",
        "        token = 1\n",
        "        act_store = [-1,-1]\n",
        "        dist += 1\n",
        "        traj = [pose]\n",
        "\n",
        "        loc = 0\n",
        "        path_distance = 0\n",
        "        #check for where this node\n",
        "        while True:\n",
        "   \n",
        "            loc = loc + 1\n",
        "            path_distance += 1\n",
        "            pre_pose = pose\n",
        "            act = v_in[pose[0]][pose[1]]\n",
        "\n",
        "            act_store[loc % 2] = act\n",
        "\n",
        "            #check for goal \n",
        "            goal_position = -1\n",
        "            for j in range(n_goal):\n",
        "                if valid[j] == 1.0:\n",
        "                    if pose[0] == goal_pose[j][0] and pose[1] == goal_pose[j][1]:\n",
        "                        goal_position = j\n",
        "            if goal_position != -1:\n",
        "                break\n",
        "            #repeat same two action\n",
        "            if (act_store[0]== 1 and act_store[1] == 3) or (act_store[0] == 3 and act_store[1] == 1):\n",
        "                token = 0\n",
        "                break\n",
        "\n",
        "            if (act_store[0]== 0 and act_store[1] == 2) or (act_store[0] == 2 and act_store[1] == 0):\n",
        "                token = 0\n",
        "                break   \n",
        "\n",
        "            if act.item() == 4:\n",
        "                goal_position = -1\n",
        "                for j in range(n_goal):\n",
        "                    if pose[0] == goal_pose[j][0] and pose[1] == goal_pose[j][1]:\n",
        "                        goal_position = j\n",
        "                if goal_position != -1:\n",
        "                    break\n",
        "                else :\n",
        "                    token = 0\n",
        "                    break\n",
        "\n",
        "            pose,obst = action(pose,act,Input[0,0,:,:].squeeze(),imsize)   \n",
        "\n",
        "            traj.append(pose)\n",
        "\n",
        "            #Hitting obstacle\n",
        "            if obst:\n",
        "                token = 0\n",
        "                break\n",
        "            #repeat same position    \n",
        "            if pose[0] == pre_pose[0] and pose[1] == pre_pose[1]:\n",
        "                token = 0\n",
        "                break\n",
        "\n",
        "        if token :\n",
        "            pose = traj[0]\n",
        "\n",
        "            traj1 = []\n",
        "            while True:\n",
        "\n",
        "                act = parent[pose[0]][pose[1]]\n",
        "                if act == 4:\n",
        "                    break\n",
        "                pose,obst = action(pose,act,Input[0,0,:,:].squeeze(),imsize)  \n",
        "                traj1.append(pose)\n",
        "                path_distance += 1\n",
        "            traj1.reverse()\n",
        "            traj1.extend(traj)\n",
        "            return goal_position,path_distance,traj1\n",
        "        else :\n",
        "            pose = node.clone()\n",
        "            for i in range(4):\n",
        "                new_pose,obst = action(pose,i,Input[0,0,:,:].squeeze(),imsize) \n",
        "                if not obst:\n",
        "                    if visited[new_pose[0]][new_pose[1]] == 0:\n",
        "                        S.put(new_pose)\n",
        "                        visited[new_pose[0]][new_pose[1]] = 1.0\n",
        "                        distance[new_pose[0]][new_pose[1]] = dist\n",
        "                        if i == 3:\n",
        "                            parent[new_pose[0]][new_pose[1]] = 1\n",
        "                        if i == 2:\n",
        "                            parent[new_pose[0]][new_pose[1]] = 0\n",
        "                        if i == 1:\n",
        "                            parent[new_pose[0]][new_pose[1]] = 3\n",
        "                        if i == 0:\n",
        "                            parent[new_pose[0]][new_pose[1]] = 2\n",
        "    return -1,0,[]"
      ],
      "execution_count": 0,
      "outputs": []
    },
    {
      "cell_type": "code",
      "metadata": {
        "id": "r7h_nWpA36aq",
        "colab_type": "code",
        "colab": {}
      },
      "source": [
        "def find_next_goal(X,agent_pose,imsize,avoid_goal,model,agent_no,n_goal,goal_pose):\n",
        "    \n",
        "    model.eval()\n",
        "    token = 0\n",
        "    \n",
        "    Input = agent_env(X.clone(),agent_pose,imsize,avoid_goal,token)\n",
        "    Input = Input.to(device)\n",
        "    S1 = torch.tensor(agent_pose[0])\n",
        "    S2 = torch.tensor(agent_pose[1])\n",
        "    S1 = S1.to(device)\n",
        "    S2 = S2.to(device)\n",
        "    output,prediction,v_max,v_in = model(Input,S1,S2)\n",
        "    \n",
        "    return next_goal(agent_pose=agent_pose,imsize=imsize,Input=Input,v_in=v_in,goal_pose=goal_pose,n_goal=n_goal,avoid_goal=avoid_goal)"
      ],
      "execution_count": 0,
      "outputs": []
    },
    {
      "cell_type": "code",
      "metadata": {
        "id": "T2tk7mcr4DW_",
        "colab_type": "code",
        "colab": {}
      },
      "source": [
        "def cooperative(X,model,imsize):\n",
        "    age = np.where(X[2] == 1.0)\n",
        "    agent_pose = np.column_stack([age[0],age[1]])\n",
        "    n_agent = agent_pose.shape[0]\n",
        "\n",
        "    go = np.where(X[1] == 1.0)\n",
        "    goal_pose = np.column_stack([go[0],go[1]])\n",
        "    n_goal = goal_pose.shape[0]\n",
        "\n",
        "    change = 0\n",
        "    if n_agent >= n_goal:\n",
        "        temp = n_goal\n",
        "        n_goal= n_agent\n",
        "        n_agent = temp\n",
        "\n",
        "        temp = agent_pose.copy()\n",
        "        agent_pose = goal_pose.copy()\n",
        "        goal_pose = temp.copy()\n",
        "\n",
        "        temp = X[2].clone()\n",
        "        X[2] = X[1].clone()\n",
        "        X[1] = temp.clone()\n",
        "\n",
        "        change = 1\n",
        "\n",
        "    goal_agent = [[] for i in range(n_goal)]\n",
        "\n",
        "    avoid_goal = [[] for i in range(n_agent)]\n",
        "\n",
        "    trajectory = [[] for i in range(n_agent)]\n",
        "\n",
        "    #find next goal for all agent\n",
        "    for i in range(n_agent):\n",
        "       # print(agent_pose,avoid_goal,goal_pose)\n",
        "        g_pos,dist,traj = find_next_goal(X.clone(),agent_pose[i],imsize,avoid_goal[i],model,i,n_goal,goal_pose)\n",
        "        goal_agent[g_pos].append([i,dist])\n",
        "        #print(g_pos,dist,traj)\n",
        "        trajectory[i].append(traj)\n",
        "    \n",
        "    count = 0\n",
        "    while count < (n_agent * 10):\n",
        "        count = count + 1\n",
        "        token = 1\n",
        "       # print(goal_agent,avoid_goal)\n",
        "        for key1 in range(n_goal):\n",
        "            if len(goal_agent[key1]) > 1:\n",
        "                token = 0\n",
        "        if token:\n",
        "            count = 0\n",
        "            for i in range(n_goal):\n",
        "                if len(goal_agent[i]) == 1:\n",
        "                    count += 1\n",
        "            agent_traj = [[] for v in range(n_agent)]\n",
        "            traj_length = -1000\n",
        "            for v in range(n_agent):\n",
        "                agent_traj[v].append(trajectory[v][-1])\n",
        "                if len(trajectory[v][-1]) > traj_length:\n",
        "                    traj_length = len(trajectory[v][-1])\n",
        "                    \n",
        "            return count,n_agent,traj_length,agent_traj\n",
        "        #find the conflict\n",
        "        for key1 in range(n_goal):\n",
        "            #check for conflict\n",
        "            if len(goal_agent[key1]) > 1:\n",
        "                same_agent = []\n",
        "                min_dist = 100\n",
        "                min_index = -1\n",
        "                for j in goal_agent[key1]:\n",
        "                    same_agent.append(j[0])\n",
        "                    if min_dist > j[1]:\n",
        "                        min_dist = j[1]\n",
        "                        min_index = j[0]\n",
        "\n",
        "                next_goal_agent = [[] for i in range(n_goal)]\n",
        "\n",
        "                #find goal next goal for conflicted agent\n",
        "                L = len(same_agent)\n",
        "                problem = 0\n",
        "                for age in same_agent:\n",
        "                    avoid_goal[age].append(goal_pose[key1])\n",
        "                    g_pos,dist,traj = find_next_goal(X.clone(),agent_pose[age],imsize,avoid_goal[age],model,age,n_goal,goal_pose)\n",
        "                    if g_pos != -1:\n",
        "                        trajectory[age].append(traj)\n",
        "                        next_goal_agent[g_pos].append([age,dist])\n",
        "                    else :\n",
        "                        problem = 1\n",
        "                        avoid_goal[age].pop(-1)\n",
        "                        for j in goal_agent[key1]:\n",
        "                            if j[0] == age:\n",
        "                                next_goal_agent[key1].append([j[0],j[1]])\n",
        "                \n",
        "               # print(next_goal_agent)\n",
        "                #check for newly created conflict\n",
        "                new_conflict = 0\n",
        "                new_conflict_index = []\n",
        "\n",
        "                for v in range(n_goal):\n",
        "                    if len(next_goal_agent[v]) > 1:\n",
        "                        new_conflict +=1\n",
        "                        new_conflict_index.append(v)\n",
        "\n",
        "\n",
        "                next_next_goal_agent = [[] for i in range(n_goal)]\n",
        "                \n",
        "                if new_conflict == 0 and problem == 1:\n",
        "                    goal_agent[key1] = []\n",
        "                    for key in range(n_goal):\n",
        "                        for j in next_goal_agent[key]:\n",
        "                            goal_agent[key].append(j)\n",
        "                #No new conflict\n",
        "                if new_conflict == 0 and problem == 0:\n",
        "                    avoid_goal[min_index].pop(-1)\n",
        "                    trajectory[min_index].pop(-1)\n",
        "                    for key in range(n_goal):\n",
        "                        if len(next_goal_agent[key]) == 1:\n",
        "                            #find where this agent made goal and make them null set\n",
        "                            if next_goal_agent[key][0][0] == min_index:\n",
        "                                next_goal_agent[key] = []\n",
        "                    \n",
        "                    next_goal_agent[key1].append([min_index,min_dist])\n",
        "                #    print(next_goal_agent)\n",
        "                    goal_agent[key1] = []\n",
        "                    for key in range(n_goal):\n",
        "                        for j in next_goal_agent[key]:\n",
        "                            goal_agent[key].append(j)\n",
        "                else :\n",
        "                    for key2 in new_conflict_index:\n",
        "                        #code for same agent or partial agent\n",
        "                        max_dist = 0\n",
        "                        max_index = -1\n",
        "                        for j in next_goal_agent[key2]:\n",
        "                            if max_dist < j[1]:\n",
        "                                max_dist = j[1]\n",
        "                                max_index = j[0]\n",
        "\n",
        "                        for j in next_goal_agent[key2]:\n",
        "                            #put largest dist to goal\n",
        "                            if j[0] == max_index:\n",
        "                                trajectory[max_index].pop(-1)\n",
        "                                avoid_goal[max_index].pop(-1)\n",
        "                                for c in range(n_goal):\n",
        "                                    for d in goal_agent[c]:\n",
        "                                        if d[0] == max_index:\n",
        "                                            next_next_goal_agent[key1].append([d[0],d[1]])\n",
        "                            else :\n",
        "                                next_next_goal_agent[key2].append([j[0],j[1]])\n",
        "\n",
        "                        goal_agent[key1] = []\n",
        "                        for key in range(n_goal):\n",
        "                            for j in next_next_goal_agent[key]:\n",
        "                                goal_agent[key].append(j)\n",
        "                                \n",
        "                                \n",
        "    for i in range(n_goal):\n",
        "        if len(goal_agent[i]) == 1:\n",
        "            count += 1\n",
        "    agent_traj = [[] for v in range(n_agent)]\n",
        "    traj_length = -1000\n",
        "    for v in range(n_agent):\n",
        "        agent_traj[v].append(trajectory[v][-1])\n",
        "        if len(trajectory[v][-1]) > traj_length:\n",
        "            traj_length = len(trajectory[v][-1])\n",
        "                    \n",
        "    return count,n_agent,traj_length,agent_traj"
      ],
      "execution_count": 0,
      "outputs": []
    },
    {
      "cell_type": "code",
      "metadata": {
        "id": "IKLocIB0sOmh",
        "colab_type": "code",
        "colab": {}
      },
      "source": [
        "class MA_P(torch.nn.Module):\n",
        "    def __init__(self, k, imsize):\n",
        "        super(MA_P, self).__init__()\n",
        "        self.k = k\n",
        "        self.imsize = imsize\n",
        "        self.h = torch.nn.Conv2d(\n",
        "            in_channels=5,\n",
        "            out_channels=150,\n",
        "            kernel_size=(3, 3),\n",
        "            stride=1,\n",
        "            padding=1,\n",
        "            bias=True)\n",
        "        self.r = torch.nn.Conv2d(\n",
        "            in_channels=150,\n",
        "            out_channels=1,\n",
        "            kernel_size=(1, 1),\n",
        "            stride=1,\n",
        "            padding=0,\n",
        "            bias=False)\n",
        "        self.q = torch.nn.Conv2d(\n",
        "            in_channels=1,\n",
        "            out_channels=5,\n",
        "            kernel_size=(3, 3),\n",
        "            stride=1,\n",
        "            padding=1,\n",
        "            bias=False)\n",
        "        \n",
        "        self.w = Parameter(torch.zeros(5, 1, 3, 3), requires_grad=True)\n",
        "        self.sm = torch.nn.Softmax(dim=1)\n",
        "\n",
        "    def forward(self, X, S1, S2):\n",
        "        inter = torch.tensor([[[[0,1,0],[1,1,1],[0,1,0]]],[[[0,1,0],[1,1,1],[0,1,0]]],[[[0,1,0],[1,1,1],[0,1,0]]],[[[0,1,0],[1,1,1],[0,1,0]]],[[[0,1,0],[1,1,1],[0,1,0]]]])\n",
        "        inter = inter.float()\n",
        "        \n",
        "        inter = inter.to(device)\n",
        "        \n",
        "        h = self.h(X)\n",
        "        r = self.r(h)\n",
        "        \n",
        "        q_1 = inter * self.q.weight\n",
        "        q = F.conv2d(input= r,weight=q_1,stride=1,padding=1)\n",
        "     \n",
        "        v, _ = torch.max(q, dim=1, keepdim=True)\n",
        "        \n",
        "        w_1 = inter * self.w\n",
        "        for i in range(0, self.k - 1):\n",
        "            q = F.conv2d(\n",
        "                torch.cat([r, v], 1),\n",
        "                torch.cat([q_1, w_1], 1),\n",
        "                stride=1,\n",
        "                padding=1)\n",
        "            v, _ = torch.max(q, dim=1, keepdim=True)\n",
        "\n",
        "        q = F.conv2d(\n",
        "            torch.cat([r, v], 1),\n",
        "            torch.cat([q_1, w_1], 1),\n",
        "            stride=1,\n",
        "            padding=1)\n",
        "        \n",
        "        v_in,v_out = torch.max(q, dim=1, keepdim=True)\n",
        "\n",
        "        slice_s1 = S1.long().expand(self.imsize, 1, 5, q.size(0))\n",
        "        slice_s1 = slice_s1.permute(3, 2, 1, 0)\n",
        "        q_out = q.gather(2, slice_s1).squeeze(2)\n",
        "\n",
        "        slice_s2 = S2.long().expand(1, 5, q.size(0))\n",
        "        slice_s2 = slice_s2.permute(2, 1, 0)\n",
        "        q_out = q_out.gather(2, slice_s2).squeeze(2)\n",
        "\n",
        "        logits = q_out\n",
        "        \n",
        "        return logits, self.sm(logits),v_in,v_out"
      ],
      "execution_count": 0,
      "outputs": []
    },
    {
      "cell_type": "code",
      "metadata": {
        "id": "2ESydZWqqts2",
        "colab_type": "code",
        "colab": {}
      },
      "source": [
        "test = []\n",
        "with np.load('train_4_0.npz',mmap_mode='r',allow_pickle=True) as f:\n",
        "    test = f['arr_0']"
      ],
      "execution_count": 0,
      "outputs": []
    },
    {
      "cell_type": "code",
      "metadata": {
        "id": "YL_P4xRwqsNF",
        "colab_type": "code",
        "colab": {}
      },
      "source": [
        "test_data = []\n",
        "\n",
        "for i in test:\n",
        "    env = -1 *(i[0] == 0) + 1.0\n",
        "    goal = (i[0] == 0.5) + 0.0\n",
        "    Agent = i[1]\n",
        "    \n",
        "    \n",
        "    p_env = np.zeros([7,7])\n",
        "    p_env[1:6,1:6] = env\n",
        "    p_goal = np.zeros([7,7])\n",
        "    p_goal[1:6,1:6] = goal\n",
        "    p_agent = np.zeros([7,7])\n",
        "    p_agent[1:6,1:6] = Agent\n",
        "    \n",
        "    domain = np.array([p_env,p_goal,p_agent])\n",
        "    test_data.append([torch.tensor(domain),torch.tensor([i[2][0]+1,i[2][1]+1]),torch.tensor(i[3])])"
      ],
      "execution_count": 0,
      "outputs": []
    },
    {
      "cell_type": "code",
      "metadata": {
        "id": "TYwBG7snqrui",
        "colab_type": "code",
        "outputId": "9d4d6fd8-86f0-47f6-9607-31daed0ae75e",
        "colab": {
          "base_uri": "https://localhost:8080/",
          "height": 34
        }
      },
      "source": [
        "model_5x5 = MA_P(8,7)\n",
        "model_5x5.load_state_dict(torch.load('MA_P_6_2_2.pth'))"
      ],
      "execution_count": 20,
      "outputs": [
        {
          "output_type": "execute_result",
          "data": {
            "text/plain": [
              "IncompatibleKeys(missing_keys=[], unexpected_keys=[])"
            ]
          },
          "metadata": {
            "tags": []
          },
          "execution_count": 20
        }
      ]
    },
    {
      "cell_type": "code",
      "metadata": {
        "id": "Tf_p7H7IqrM9",
        "colab_type": "code",
        "outputId": "b9297d6c-0255-434c-e5b7-394268c72c79",
        "colab": {
          "base_uri": "https://localhost:8080/",
          "height": 122
        }
      },
      "source": [
        "model_5x5.cuda()"
      ],
      "execution_count": 23,
      "outputs": [
        {
          "output_type": "execute_result",
          "data": {
            "text/plain": [
              "MA_P(\n",
              "  (h): Conv2d(5, 150, kernel_size=(3, 3), stride=(1, 1), padding=(1, 1))\n",
              "  (r): Conv2d(150, 1, kernel_size=(1, 1), stride=(1, 1), bias=False)\n",
              "  (q): Conv2d(1, 5, kernel_size=(3, 3), stride=(1, 1), padding=(1, 1), bias=False)\n",
              "  (sm): Softmax()\n",
              ")"
            ]
          },
          "metadata": {
            "tags": []
          },
          "execution_count": 23
        }
      ]
    },
    {
      "cell_type": "code",
      "metadata": {
        "id": "lo99IinXryir",
        "colab_type": "code",
        "colab": {}
      },
      "source": [
        "device = torch.device(\"cuda:0\" if torch.cuda.is_available() else \"CPU\")"
      ],
      "execution_count": 0,
      "outputs": []
    },
    {
      "cell_type": "code",
      "metadata": {
        "id": "AVKVpfAWr3ro",
        "colab_type": "code",
        "outputId": "c3732323-592b-4de4-8101-c60edfc3c959",
        "colab": {
          "base_uri": "https://localhost:8080/",
          "height": 125
        }
      },
      "source": [
        "correct, traj_step, total,total_env = 0.0,0.0,0.0,0.0\n",
        "\n",
        "X,S,label = test_data[0].copy()\n",
        "\n",
        "prev_env = X.clone()\n",
        "\n",
        "whole_traj_act = []\n",
        "\n",
        "Trajectory = [S]\n",
        "Action  = [label]\n",
        "\n",
        "go = np.where(X[1] == 1.0) \n",
        "goal = np.column_stack([go[0],go[1]])\n",
        "\n",
        "end = len(test_data)\n",
        "\n",
        "\n",
        "for i in range(1,end):\n",
        "    X,S,label = test_data[i].copy()\n",
        "    \n",
        "    new_env = X.clone()\n",
        "    \n",
        "   \n",
        "    if (new_env[0] - prev_env[0]).sum() == 0.0:\n",
        "\n",
        "        if label != 4:\n",
        "            Trajectory.append(S)\n",
        "            Action.append(label)\n",
        "        else:\n",
        "            Trajectory.append(S)\n",
        "            Action.append(label)\n",
        "            whole_traj_act.append([Trajectory,Action])\n",
        "            Trajectory = []\n",
        "            Action = []\n",
        "    else :\n",
        "        #call the function with prev_new and whole traj act\n",
        "        total_env += 1\n",
        "        #correct_goal,total_goal, traj_length,traj = agent_prediction(model_5x5,prev_env.clone(),whole_traj_act,goal,7,0)\n",
        "        correct_goal,total_goal, traj_length,traj = cooperative(model=model_5x5,X=prev_env.clone(),imsize=7)\n",
        "        \n",
        "        total += total_goal\n",
        "\n",
        "        correct += correct_goal\n",
        "        traj_step += traj_length\n",
        "        \n",
        "        prev_env = new_env.clone()\n",
        "        \n",
        "        \n",
        "        whole_traj_act = []\n",
        "        go = np.where(prev_env[1] == 1.0) \n",
        "        goal = np.column_stack([go[0],go[1]])\n",
        "        \n",
        "        \n",
        "print(f'Goal_accuray: {correct /total}')\n",
        "print(correct,total)\n",
        "print(f'Average_Step_error_in_each_domain : {traj_step/total_env}')\n",
        "print(traj_step,total_env)"
      ],
      "execution_count": 30,
      "outputs": [
        {
          "output_type": "stream",
          "text": [
            "/usr/local/lib/python3.6/dist-packages/ipykernel_launcher.py:31: UserWarning: To copy construct from a tensor, it is recommended to use sourceTensor.clone().detach() or sourceTensor.clone().detach().requires_grad_(True), rather than torch.tensor(sourceTensor).\n"
          ],
          "name": "stderr"
        },
        {
          "output_type": "stream",
          "text": [
            "Goal_accuray: 0.9944547134935305\n",
            "7532.0 7574.0\n",
            "Average_Step_error_in_each_domain : 3.9979641693811074\n",
            "19638.0 4912.0\n"
          ],
          "name": "stdout"
        }
      ]
    },
    {
      "cell_type": "code",
      "metadata": {
        "id": "rpsuzvyVvAWR",
        "colab_type": "code",
        "colab": {}
      },
      "source": [
        "correct, traj_step, total,total_env = 0.0,0.0,0.0,0.0\n",
        "\n",
        "X,S,label = test_data[0].copy()\n",
        "\n",
        "prev_env = X.clone()\n",
        "\n",
        "whole_traj_act = []\n",
        "\n",
        "Trajectory = [S]\n",
        "Action  = [label]\n",
        "\n",
        "go = np.where(X[1] == 1.0) \n",
        "goal = np.column_stack([go[0],go[1]])\n",
        "\n",
        "end = len(test_data)\n",
        "\n",
        "\n",
        "for i in range(1,end):\n",
        "    X,S,label = test_data[i].copy()\n",
        "    \n",
        "    new_env = X.clone()\n",
        "    \n",
        "   \n",
        "    if (new_env[0] - prev_env[0]).sum() == 0.0:\n",
        "\n",
        "        if label != 4:\n",
        "            Trajectory.append(S)\n",
        "            Action.append(label)\n",
        "        else:\n",
        "            Trajectory.append(S)\n",
        "            Action.append(label)\n",
        "            whole_traj_act.append([Trajectory,Action])\n",
        "            Trajectory = []\n",
        "            Action = []\n",
        "    else :\n",
        "        #call the function with prev_new and whole traj act\n",
        "        total_env += 1\n",
        "        correct_goal,total_goal, traj_length,traj = agent_prediction(model,prev_env.clone(),whole_traj_act,goal,7,0)\n",
        "        #correct_goal,total_goal, traj_length,traj = cooperative(model=model,X=prev_env.clone(),imsize=7)\n",
        "        \n",
        "        total += total_goal\n",
        "\n",
        "        correct += correct_goal\n",
        "        traj_step += traj_length\n",
        "        \n",
        "        prev_env = new_env.clone()\n",
        "        \n",
        "        \n",
        "        whole_traj_act = []\n",
        "        go = np.where(prev_env[1] == 1.0) \n",
        "        goal = np.column_stack([go[0],go[1]])\n",
        "        \n",
        "        \n",
        "print(f'Goal_accuray: {correct /total}')\n",
        "print(correct,total)\n",
        "print(f'Average_Step_error_in_each_domain : {traj_step/total_env}')\n",
        "print(traj_step,total_env)"
      ],
      "execution_count": 0,
      "outputs": []
    },
    {
      "cell_type": "code",
      "metadata": {
        "id": "fXKZ_yay8pl2",
        "colab_type": "code",
        "colab": {}
      },
      "source": [
        "test = []\n",
        "with np.load('train_4_data.npz', mmap_mode='r',allow_pickle=True) as f:\n",
        "    test = f['arr_0']\n"
      ],
      "execution_count": 0,
      "outputs": []
    },
    {
      "cell_type": "code",
      "metadata": {
        "id": "EA8dIOX-9IH1",
        "colab_type": "code",
        "colab": {}
      },
      "source": [
        "test_data = []\n",
        "\n",
        "for i in test:\n",
        "    env = -1 *(i[0] == 0) + 1.0\n",
        "    goal = (i[0] == 0.5) + 0.0\n",
        "    Agent = i[1]\n",
        "    \n",
        "    \n",
        "    p_env = np.zeros([10,10])\n",
        "    p_env[1:9,1:9] = env\n",
        "    p_goal = np.zeros([10,10])\n",
        "    p_goal[1:9,1:9] = goal\n",
        "    p_agent = np.zeros([10,10])\n",
        "    p_agent[1:9,1:9] = Agent\n",
        "    \n",
        "    domain = np.array([p_env,p_goal,p_agent])\n",
        "    test_data.append([torch.tensor(domain),torch.tensor([i[2][0]+1,i[2][1]+1]),torch.tensor(i[3])])"
      ],
      "execution_count": 0,
      "outputs": []
    },
    {
      "cell_type": "code",
      "metadata": {
        "id": "8YkSwCoN9or5",
        "colab_type": "code",
        "colab": {
          "base_uri": "https://localhost:8080/",
          "height": 34
        },
        "outputId": "281dbae4-4d7a-4cd6-8cd6-3caeb3373be3"
      },
      "source": [
        "model_8x8 = MA_P(10,10)\n",
        "model_8x8.load_state_dict(torch.load('MA_P_6_2_2.pth'))"
      ],
      "execution_count": 57,
      "outputs": [
        {
          "output_type": "execute_result",
          "data": {
            "text/plain": [
              "IncompatibleKeys(missing_keys=[], unexpected_keys=[])"
            ]
          },
          "metadata": {
            "tags": []
          },
          "execution_count": 57
        }
      ]
    },
    {
      "cell_type": "code",
      "metadata": {
        "id": "_Z-9dCYM94Fe",
        "colab_type": "code",
        "colab": {
          "base_uri": "https://localhost:8080/",
          "height": 122
        },
        "outputId": "c888baa0-7544-4f7f-82ae-93616c5cd158"
      },
      "source": [
        "model_8x8.cuda()"
      ],
      "execution_count": 58,
      "outputs": [
        {
          "output_type": "execute_result",
          "data": {
            "text/plain": [
              "MA_P(\n",
              "  (h): Conv2d(5, 150, kernel_size=(3, 3), stride=(1, 1), padding=(1, 1))\n",
              "  (r): Conv2d(150, 1, kernel_size=(1, 1), stride=(1, 1), bias=False)\n",
              "  (q): Conv2d(1, 5, kernel_size=(3, 3), stride=(1, 1), padding=(1, 1), bias=False)\n",
              "  (sm): Softmax()\n",
              ")"
            ]
          },
          "metadata": {
            "tags": []
          },
          "execution_count": 58
        }
      ]
    },
    {
      "cell_type": "code",
      "metadata": {
        "id": "8oqNU1Iu9_zq",
        "colab_type": "code",
        "colab": {
          "base_uri": "https://localhost:8080/",
          "height": 125
        },
        "outputId": "c95fada4-559f-4912-d323-59e279dddeaa"
      },
      "source": [
        "correct, traj_step, total,total_env = 0.0,0.0,0.0,0.0\n",
        "\n",
        "X,S,label = test_data[0].copy()\n",
        "\n",
        "prev_env = X.clone()\n",
        "\n",
        "whole_traj_act = []\n",
        "\n",
        "Trajectory = [S]\n",
        "Action  = [label]\n",
        "\n",
        "go = np.where(X[1] == 1.0) \n",
        "goal = np.column_stack([go[0],go[1]])\n",
        "\n",
        "end = len(test_data)\n",
        "\n",
        "\n",
        "for i in range(1,end):\n",
        "    X,S,label = test_data[i].copy()\n",
        "    \n",
        "    new_env = X.clone()\n",
        "    \n",
        "   \n",
        "    if (new_env[0] - prev_env[0]).sum() == 0.0:\n",
        "\n",
        "        if label != 4:\n",
        "            Trajectory.append(S)\n",
        "            Action.append(label)\n",
        "        else:\n",
        "            Trajectory.append(S)\n",
        "            Action.append(label)\n",
        "            whole_traj_act.append([Trajectory,Action])\n",
        "            Trajectory = []\n",
        "            Action = []\n",
        "    else :\n",
        "        #call the function with prev_new and whole traj act\n",
        "        total_env += 1\n",
        "        #correct_goal,total_goal, traj_length,traj = agent_prediction(model_8x8,prev_env.clone(),whole_traj_act,goal,10,0)\n",
        "        correct_goal,total_goal, traj_length,traj = cooperative(model=model_8x8,X=prev_env.clone(),imsize=10)\n",
        "        \n",
        "        total += total_goal\n",
        "\n",
        "        correct += correct_goal\n",
        "        traj_step += traj_length\n",
        "        \n",
        "        prev_env = new_env.clone()\n",
        "        \n",
        "        \n",
        "        whole_traj_act = []\n",
        "        go = np.where(prev_env[1] == 1.0) \n",
        "        goal = np.column_stack([go[0],go[1]])\n",
        "        \n",
        "        \n",
        "print(f'Goal_accuray: {correct /total}')\n",
        "print(correct,total)\n",
        "print(f'Average_Step_error_in_each_domain : {traj_step/total_env}')\n",
        "print(traj_step,total_env)"
      ],
      "execution_count": 65,
      "outputs": [
        {
          "output_type": "stream",
          "text": [
            "/usr/local/lib/python3.6/dist-packages/ipykernel_launcher.py:31: UserWarning: To copy construct from a tensor, it is recommended to use sourceTensor.clone().detach() or sourceTensor.clone().detach().requires_grad_(True), rather than torch.tensor(sourceTensor).\n"
          ],
          "name": "stderr"
        },
        {
          "output_type": "stream",
          "text": [
            "Goal_accuray: 0.9906044033094937\n",
            "7064.0 7131.0\n",
            "Average_Step_error_in_each_domain : 5.944061302681992\n",
            "23271.0 3915.0\n"
          ],
          "name": "stdout"
        }
      ]
    },
    {
      "cell_type": "code",
      "metadata": {
        "id": "HgQWoElxBlAh",
        "colab_type": "code",
        "colab": {}
      },
      "source": [
        "test = []\n",
        "with np.load('test_16x16_data.npz', mmap_mode='r',allow_pickle=True) as f:\n",
        "    test = f['arr_0']"
      ],
      "execution_count": 0,
      "outputs": []
    },
    {
      "cell_type": "code",
      "metadata": {
        "id": "y-YdBSh1C3SI",
        "colab_type": "code",
        "colab": {}
      },
      "source": [
        "test_data = []\n",
        "\n",
        "for i in test:\n",
        "    env = -1 *(i[0] == 0) + 1.0\n",
        "    goal = (i[0] == 0.5) + 0.0\n",
        "    Agent = i[1]\n",
        "    \n",
        "    \n",
        "    p_env = np.zeros([18,18])\n",
        "    p_env[1:17,1:17] = env\n",
        "    p_goal = np.zeros([18,18])\n",
        "    p_goal[1:17,1:17] = goal\n",
        "    p_agent = np.zeros([18,18])\n",
        "    p_agent[1:17,1:17] = Agent\n",
        "    \n",
        "    domain = np.array([p_env,p_goal,p_agent])\n",
        "    test_data.append([torch.tensor(domain),torch.tensor([i[2][0]+1,i[2][1]+1]),torch.tensor(i[3])])"
      ],
      "execution_count": 0,
      "outputs": []
    },
    {
      "cell_type": "code",
      "metadata": {
        "id": "c96_HD02DURc",
        "colab_type": "code",
        "colab": {
          "base_uri": "https://localhost:8080/",
          "height": 34
        },
        "outputId": "f848e578-2dd9-42b6-933d-24328de27179"
      },
      "source": [
        "model_16x16 = MA_P(20,18)\n",
        "model_16x16.load_state_dict(torch.load('MA_P_6_2_2.pth'))"
      ],
      "execution_count": 77,
      "outputs": [
        {
          "output_type": "execute_result",
          "data": {
            "text/plain": [
              "IncompatibleKeys(missing_keys=[], unexpected_keys=[])"
            ]
          },
          "metadata": {
            "tags": []
          },
          "execution_count": 77
        }
      ]
    },
    {
      "cell_type": "code",
      "metadata": {
        "id": "OEeHzvoADgGl",
        "colab_type": "code",
        "colab": {
          "base_uri": "https://localhost:8080/",
          "height": 122
        },
        "outputId": "f1d2ea7d-76e2-4d2f-b59c-43b4bc9f939e"
      },
      "source": [
        "model_16x16.cuda()"
      ],
      "execution_count": 78,
      "outputs": [
        {
          "output_type": "execute_result",
          "data": {
            "text/plain": [
              "MA_P(\n",
              "  (h): Conv2d(5, 150, kernel_size=(3, 3), stride=(1, 1), padding=(1, 1))\n",
              "  (r): Conv2d(150, 1, kernel_size=(1, 1), stride=(1, 1), bias=False)\n",
              "  (q): Conv2d(1, 5, kernel_size=(3, 3), stride=(1, 1), padding=(1, 1), bias=False)\n",
              "  (sm): Softmax()\n",
              ")"
            ]
          },
          "metadata": {
            "tags": []
          },
          "execution_count": 78
        }
      ]
    },
    {
      "cell_type": "code",
      "metadata": {
        "id": "P6PUq7i8D9uL",
        "colab_type": "code",
        "colab": {
          "base_uri": "https://localhost:8080/",
          "height": 87
        },
        "outputId": "72db67d9-a3a3-413b-c4df-1b8863d0328b"
      },
      "source": [
        "correct, traj_step, total,total_env = 0.0,0.0,0.0,0.0\n",
        "\n",
        "X,S,label = test_data[0].copy()\n",
        "\n",
        "prev_env = X.clone()\n",
        "\n",
        "whole_traj_act = []\n",
        "\n",
        "Trajectory = [S]\n",
        "Action  = [label]\n",
        "\n",
        "go = np.where(X[1] == 1.0) \n",
        "goal = np.column_stack([go[0],go[1]])\n",
        "\n",
        "end = len(test_data)\n",
        "\n",
        "\n",
        "for i in range(1,end):\n",
        "    X,S,label = test_data[i].copy()\n",
        "    \n",
        "    new_env = X.clone()\n",
        "    \n",
        "   \n",
        "    if (new_env[0] - prev_env[0]).sum() == 0.0:\n",
        "\n",
        "        if label != 4:\n",
        "            Trajectory.append(S)\n",
        "            Action.append(label)\n",
        "        else:\n",
        "            Trajectory.append(S)\n",
        "            Action.append(label)\n",
        "            whole_traj_act.append([Trajectory,Action])\n",
        "            Trajectory = []\n",
        "            Action = []\n",
        "    else :\n",
        "        #call the function with prev_new and whole traj act\n",
        "        total_env += 1\n",
        "        correct_goal,total_goal, traj_length,traj = agent_prediction(model_16x16,prev_env.clone(),whole_traj_act,goal,18,0)\n",
        "        #correct_goal,total_goal, traj_length,traj = cooperative(model=model_16x16,X=prev_env.clone(),imsize=18)\n",
        "        \n",
        "        total += total_goal\n",
        "\n",
        "        correct += correct_goal\n",
        "        traj_step += traj_length\n",
        "        \n",
        "        prev_env = new_env.clone()\n",
        "        \n",
        "        \n",
        "        whole_traj_act = []\n",
        "        go = np.where(prev_env[1] == 1.0) \n",
        "        goal = np.column_stack([go[0],go[1]])\n",
        "        \n",
        "        \n",
        "print(f'Goal_accuray: {correct /total}')\n",
        "print(correct,total)\n",
        "print(f'Average_Step_error_in_each_domain : {traj_step/total_env}')\n",
        "print(traj_step,total_env)"
      ],
      "execution_count": 80,
      "outputs": [
        {
          "output_type": "stream",
          "text": [
            "Goal_accuray: 0.7518796992481203\n",
            "100.0 133.0\n",
            "Average_Step_error_in_each_domain : 7.163265306122449\n",
            "351.0 49.0\n"
          ],
          "name": "stdout"
        }
      ]
    },
    {
      "cell_type": "code",
      "metadata": {
        "id": "ZwmNSSPWh3Ca",
        "colab_type": "code",
        "colab": {}
      },
      "source": [
        "test = []\n",
        "with np.load('Env_28x28.npz', mmap_mode='r') as f:\n",
        "    test = f['arr_0']"
      ],
      "execution_count": 0,
      "outputs": []
    },
    {
      "cell_type": "code",
      "metadata": {
        "id": "oIuolj8sorFh",
        "colab_type": "code",
        "colab": {}
      },
      "source": [
        "test_data = []\n",
        "\n",
        "for i in test:\n",
        "    env = -1 *(i[0] == 0) + 1.0\n",
        "    goal = (i[0] == 0.5) + 0.0\n",
        "    Agent = i[1]\n",
        "    domain = np.array([env,goal,Agent])\n",
        "    \n",
        "    test_data.append([torch.tensor(domain.copy())])\n",
        "    "
      ],
      "execution_count": 0,
      "outputs": []
    },
    {
      "cell_type": "code",
      "metadata": {
        "id": "wddAvGtNwG0M",
        "colab_type": "code",
        "outputId": "bc44f206-b6ee-4177-eb77-2e98f197d3a6",
        "colab": {
          "base_uri": "https://localhost:8080/",
          "height": 34
        }
      },
      "source": [
        "model_28x28 = MA_P(36,32)\n",
        "model_28x28.load_state_dict(torch.load('MA_P_6_2_2.pth'))"
      ],
      "execution_count": 119,
      "outputs": [
        {
          "output_type": "execute_result",
          "data": {
            "text/plain": [
              "IncompatibleKeys(missing_keys=[], unexpected_keys=[])"
            ]
          },
          "metadata": {
            "tags": []
          },
          "execution_count": 119
        }
      ]
    },
    {
      "cell_type": "code",
      "metadata": {
        "id": "KlKpwmN2po4b",
        "colab_type": "code",
        "outputId": "7297ce05-b7b2-4d51-e903-e0d10760acfe",
        "colab": {
          "base_uri": "https://localhost:8080/",
          "height": 122
        }
      },
      "source": [
        "model_28x28.cuda()"
      ],
      "execution_count": 120,
      "outputs": [
        {
          "output_type": "execute_result",
          "data": {
            "text/plain": [
              "MA_P(\n",
              "  (h): Conv2d(5, 150, kernel_size=(3, 3), stride=(1, 1), padding=(1, 1))\n",
              "  (r): Conv2d(150, 1, kernel_size=(1, 1), stride=(1, 1), bias=False)\n",
              "  (q): Conv2d(1, 5, kernel_size=(3, 3), stride=(1, 1), padding=(1, 1), bias=False)\n",
              "  (sm): Softmax()\n",
              ")"
            ]
          },
          "metadata": {
            "tags": []
          },
          "execution_count": 120
        }
      ]
    },
    {
      "cell_type": "code",
      "metadata": {
        "id": "NVJVU1wutWkL",
        "colab_type": "code",
        "colab": {}
      },
      "source": [
        "device = torch.device(\"cuda:0\" if torch.cuda.is_available() else \"CPU\")"
      ],
      "execution_count": 0,
      "outputs": []
    },
    {
      "cell_type": "code",
      "metadata": {
        "id": "5u-fc-Ixp0VZ",
        "colab_type": "code",
        "outputId": "55a4ba60-5105-48e5-8234-e9a2492fd26e",
        "colab": {
          "base_uri": "https://localhost:8080/",
          "height": 266
        }
      },
      "source": [
        "correct,total,traj_step = 0.0,0.0,0.0   \n",
        "imsize = 32\n",
        "max_rand_play= 0\n",
        "memory = []\n",
        "for i in range(1):\n",
        "    if i == 22 or i == 44 or i == 26:\n",
        "      continue\n",
        "    \n",
        "    X = test_data[i][0].clone()\n",
        "    \n",
        "    Y = torch.zeros([3,32,32])\n",
        "    \n",
        "    Y[:,2:30,2:30] = X.clone()\n",
        "    \n",
        "    go = np.where(Y[1] == 1.0)\n",
        "    goal = np.column_stack([go[0],go[1]])\n",
        "    \n",
        "  \n",
        "        \n",
        "    #current_goal,current_total,traj,memory = agent_predict(model_28x28,Y.clone(),goal,imsize,max_rand_play)\n",
        "    #correct_goal,total_goal, traj_length,traj = agent_prediction(model_28x28,Y.clone(),[],goal,imsize,0)\n",
        "    correct_goal,total_goal, traj_length,traj = cooperative(model=model_28x28,X=Y.clone(),imsize=imsize)\n",
        "    \n",
        "    for j in traj:\n",
        "      for k in j:\n",
        "         print(k,end=\"->\")\n",
        "      print(\"End\")\n",
        "      \n",
        "    print(i,correct_goal,total_goal)\n",
        "    \n",
        "    correct += correct_goal\n",
        "    total += total_goal\n",
        "    traj_step += traj_length\n",
        "    \n",
        "print(f'Goal Accuracy: {correct/total}')\n",
        "print(correct,total)\n",
        "print(f'Average traj step length : {traj_step/50}')\n",
        "print(traj_step,50)"
      ],
      "execution_count": 132,
      "outputs": [
        {
          "output_type": "stream",
          "text": [
            "/usr/local/lib/python3.6/dist-packages/ipykernel_launcher.py:31: UserWarning: To copy construct from a tensor, it is recommended to use sourceTensor.clone().detach() or sourceTensor.clone().detach().requires_grad_(True), rather than torch.tensor(sourceTensor).\n"
          ],
          "name": "stderr"
        },
        {
          "output_type": "stream",
          "text": [
            "[tensor([ 3, 11]), tensor([ 2, 11]), tensor([ 2, 10])]->End\n",
            "[tensor([13,  3]), tensor([12,  3]), tensor([11,  3]), tensor([10,  3]), tensor([9, 3]), tensor([9, 4]), tensor([9, 5]), tensor([9, 6]), tensor([9, 7]), tensor([9, 8]), tensor([9, 9]), tensor([ 9, 10]), tensor([ 9, 11]), tensor([ 9, 12]), tensor([ 9, 13]), tensor([ 9, 14]), tensor([ 9, 15])]->End\n",
            "[tensor([20, 23]), tensor([20, 24]), tensor([20, 25]), tensor([19, 25]), tensor([19, 26]), tensor([18, 26]), tensor([18, 27]), tensor([17, 27]), tensor([17, 28])]->End\n",
            "[tensor([21, 28]), tensor([20, 28]), tensor([19, 28]), tensor([18, 28]), tensor([17, 28]), tensor([16, 28]), tensor([15, 28]), tensor([15, 27]), tensor([14, 27])]->End\n",
            "[tensor([22,  4]), tensor([21,  4]), tensor([20,  4]), tensor([19,  4]), tensor([19,  5])]->End\n",
            "[tensor([24, 10]), tensor([24,  9]), tensor([23,  9]), tensor([22,  9]), tensor([21,  9]), tensor([20,  9]), tensor([19,  9]), tensor([19, 10]), tensor([19, 11]), tensor([19, 12]), tensor([18, 12]), tensor([17, 12]), tensor([16, 12]), tensor([15, 12]), tensor([14, 12]), tensor([13, 12]), tensor([13, 11]), tensor([12, 11])]->End\n",
            "[tensor([25, 11]), tensor([24, 11]), tensor([23, 11]), tensor([22, 11]), tensor([21, 11]), tensor([20, 11]), tensor([19, 11]), tensor([19, 12]), tensor([19, 13]), tensor([18, 13]), tensor([18, 14]), tensor([18, 15]), tensor([18, 16]), tensor([18, 17]), tensor([18, 18]), tensor([18, 19]), tensor([19, 19]), tensor([20, 19]), tensor([20, 20]), tensor([20, 21]), tensor([20, 22]), tensor([20, 23]), tensor([21, 23]), tensor([21, 24])]->End\n",
            "0 7 7\n",
            "Goal Accuracy: 1.0\n",
            "7.0 7.0\n",
            "Average traj step length : 0.48\n",
            "24.0 50\n"
          ],
          "name": "stdout"
        }
      ]
    },
    {
      "cell_type": "code",
      "metadata": {
        "id": "phP7SASyQv-m",
        "colab_type": "code",
        "colab": {}
      },
      "source": [
        ""
      ],
      "execution_count": 0,
      "outputs": []
    },
    {
      "cell_type": "markdown",
      "metadata": {
        "id": "hzxosbAA2VZG",
        "colab_type": "text"
      },
      "source": [
        "45 1\n",
        "44 1\n",
        "33 1\n",
        "32 1\n",
        "25 1\n",
        "23 1\n",
        "20 1\n",
        "19 1\n",
        "18 1"
      ]
    },
    {
      "cell_type": "code",
      "metadata": {
        "id": "WclMr7DjxqXi",
        "colab_type": "code",
        "outputId": "aa3d7eab-3037-40c9-9654-56bd03ec4e98",
        "colab": {
          "base_uri": "https://localhost:8080/",
          "height": 140
        }
      },
      "source": [
        "age = np.where(Y[2] == 1.0)\n",
        "agent = np.column_stack([age[0],age[1]])\n",
        "print(agent)"
      ],
      "execution_count": 138,
      "outputs": [
        {
          "output_type": "stream",
          "text": [
            "[[ 2 10]\n",
            " [ 9 15]\n",
            " [12 11]\n",
            " [14 27]\n",
            " [17 28]\n",
            " [19  5]\n",
            " [21 24]]\n"
          ],
          "name": "stdout"
        }
      ]
    },
    {
      "cell_type": "code",
      "metadata": {
        "id": "0kwi8blj9mAc",
        "colab_type": "code",
        "outputId": "75fbafc7-2a50-48df-a936-462e55093693",
        "colab": {
          "base_uri": "https://localhost:8080/",
          "height": 140
        }
      },
      "source": [
        "go = np.where(Y[1] == 1.0)\n",
        "goa = np.column_stack([go[0],go[1]])\n",
        "print(goa)"
      ],
      "execution_count": 137,
      "outputs": [
        {
          "output_type": "stream",
          "text": [
            "[[ 3 11]\n",
            " [13  3]\n",
            " [20 23]\n",
            " [21 28]\n",
            " [22  4]\n",
            " [24 10]\n",
            " [25 11]]\n"
          ],
          "name": "stdout"
        }
      ]
    },
    {
      "cell_type": "code",
      "metadata": {
        "id": "EaUIYJ65yDK_",
        "colab_type": "code",
        "outputId": "d79eb544-abaa-4997-bc66-a06cda904f8c",
        "colab": {
          "base_uri": "https://localhost:8080/",
          "height": 286
        }
      },
      "source": [
        "plt.imshow(Y[0].detach().cpu().squeeze() - 0.5 * Y[1].detach().cpu().squeeze()+ Y[2].detach().cpu().squeeze())"
      ],
      "execution_count": 142,
      "outputs": [
        {
          "output_type": "execute_result",
          "data": {
            "text/plain": [
              "<matplotlib.image.AxesImage at 0x7f886f8f5048>"
            ]
          },
          "metadata": {
            "tags": []
          },
          "execution_count": 142
        },
        {
          "output_type": "display_data",
          "data": {
            "image/png": "[encoded data removed]",
            "text/plain": [
              "<Figure size 432x288 with 1 Axes>"
            ]
          },
          "metadata": {
            "tags": []
          }
        }
      ]
    },
    {
      "cell_type": "code",
      "metadata": {
        "id": "mk1BD4dW9dyw",
        "colab_type": "code",
        "outputId": "40b60eb2-4687-4521-c4a5-1b93de3cbdf4",
        "colab": {
          "base_uri": "https://localhost:8080/",
          "height": 122
        }
      },
      "source": [
        "goal"
      ],
      "execution_count": 0,
      "outputs": [
        {
          "output_type": "execute_result",
          "data": {
            "text/plain": [
              "array([[ 2,  7],\n",
              "       [ 3,  9],\n",
              "       [11, 25],\n",
              "       [16, 17],\n",
              "       [21, 15],\n",
              "       [25, 16]])"
            ]
          },
          "metadata": {
            "tags": []
          },
          "execution_count": 116
        }
      ]
    },
    {
      "cell_type": "code",
      "metadata": {
        "id": "prsOJDvq7kp0",
        "colab_type": "code",
        "outputId": "f518b01d-e705-4465-e1b0-94b6868b9880",
        "colab": {
          "base_uri": "https://localhost:8080/",
          "height": 34
        }
      },
      "source": [
        "memory[3][-1][1][0][0][25][16]"
      ],
      "execution_count": 0,
      "outputs": [
        {
          "output_type": "execute_result",
          "data": {
            "text/plain": [
              "tensor(4, device='cuda:0')"
            ]
          },
          "metadata": {
            "tags": []
          },
          "execution_count": 113
        }
      ]
    },
    {
      "cell_type": "code",
      "metadata": {
        "id": "UMbbNxp2zY3B",
        "colab_type": "code",
        "outputId": "ebee22a9-dc70-49dc-8f39-8ebf467695cc",
        "colab": {
          "base_uri": "https://localhost:8080/",
          "height": 286
        }
      },
      "source": [
        "plt.imshow(Y[0]- 0.5*Y[1] + Y[2])"
      ],
      "execution_count": 0,
      "outputs": [
        {
          "output_type": "execute_result",
          "data": {
            "text/plain": [
              "<matplotlib.image.AxesImage at 0x7f30364753c8>"
            ]
          },
          "metadata": {
            "tags": []
          },
          "execution_count": 39
        },
        {
          "output_type": "display_data",
          "data": {
            "image/png": "[encoded data removed]",
            "text/plain": [
              "<Figure size 432x288 with 1 Axes>"
            ]
          },
          "metadata": {
            "tags": []
          }
        }
      ]
    },
    {
      "cell_type": "code",
      "metadata": {
        "id": "2tvrPma1QHDk",
        "colab_type": "code",
        "outputId": "c2e9e240-9bfb-4c1d-e25a-76506335d7d6",
        "colab": {
          "base_uri": "https://localhost:8080/",
          "height": 1400
        }
      },
      "source": [
        "correct_goal,total_goal = 0.0,0.0   \n",
        "imsize = 28\n",
        "max_rand_play= 0\n",
        "for i in range(5):\n",
        "    X = test_data[i][0].clone()\n",
        "    \n",
        "    go = np.where(X[1] == 1.0)\n",
        "    goal = np.column_stack([go[0],go[1]])\n",
        "    \n",
        "        \n",
        "    current_goal,current_total,traj = agent_predict(model_28x28,X.clone(),goal,imsize,max_rand_play)\n",
        "    \n",
        "    visualization(X,traj,imsize)\n",
        "    \n",
        "    correct_goal += current_goal\n",
        "    total_goal += current_total\n",
        "    \n",
        "print(f'Goal Accuracy: {correct_goal/total_goal}')\n",
        "print(correct_goal,total_goal)"
      ],
      "execution_count": 0,
      "outputs": [
        {
          "output_type": "stream",
          "text": [
            "No handles with labels found to put in legend.\n"
          ],
          "name": "stderr"
        },
        {
          "output_type": "display_data",
          "data": {
            "image/png": "[encoded data removed]",
            "text/plain": [
              "<Figure size 432x288 with 1 Axes>"
            ]
          },
          "metadata": {
            "tags": []
          }
        },
        {
          "output_type": "stream",
          "text": [
            "No handles with labels found to put in legend.\n"
          ],
          "name": "stderr"
        },
        {
          "output_type": "display_data",
          "data": {
            "image/png": "[encoded data removed]",
            "text/plain": [
              "<Figure size 432x288 with 1 Axes>"
            ]
          },
          "metadata": {
            "tags": []
          }
        },
        {
          "output_type": "stream",
          "text": [
            "No handles with labels found to put in legend.\n"
          ],
          "name": "stderr"
        },
        {
          "output_type": "display_data",
          "data": {
            "image/png": "[encoded data removed]",
            "text/plain": [
              "<Figure size 432x288 with 1 Axes>"
            ]
          },
          "metadata": {
            "tags": []
          }
        },
        {
          "output_type": "stream",
          "text": [
            "No handles with labels found to put in legend.\n"
          ],
          "name": "stderr"
        },
        {
          "output_type": "display_data",
          "data": {
            "image/png": "[encoded data removed]",
            "text/plain": [
              "<Figure size 432x288 with 1 Axes>"
            ]
          },
          "metadata": {
            "tags": []
          }
        },
        {
          "output_type": "stream",
          "text": [
            "No handles with labels found to put in legend.\n"
          ],
          "name": "stderr"
        },
        {
          "output_type": "display_data",
          "data": {
            "image/png": "[encoded data removed]",
            "text/plain": [
              "<Figure size 432x288 with 1 Axes>"
            ]
          },
          "metadata": {
            "tags": []
          }
        },
        {
          "output_type": "stream",
          "text": [
            "Goal Accuracy: 0.9130434782608695\n",
            "21.0 23.0\n"
          ],
          "name": "stdout"
        }
      ]
    },
    {
      "cell_type": "code",
      "metadata": {
        "id": "Ic6QY1FnQrs4",
        "colab_type": "code",
        "colab": {}
      },
      "source": [
        "test = []\n",
        "with np.load('Env_32x32.npz', mmap_mode='r') as f:\n",
        "    test = f['arr_0']"
      ],
      "execution_count": 0,
      "outputs": []
    },
    {
      "cell_type": "code",
      "metadata": {
        "id": "e10FbiesScGp",
        "colab_type": "code",
        "colab": {}
      },
      "source": [
        "test_data = []\n",
        "\n",
        "for i in test:\n",
        "    env = -1 *(i[0] == 0) + 1.0\n",
        "    goal = (i[0] == 0.5) + 0.0\n",
        "    Agent = i[1]\n",
        "    domain = np.array([env,goal,Agent])\n",
        "    \n",
        "    test_data.append([torch.tensor(domain.copy())])"
      ],
      "execution_count": 0,
      "outputs": []
    },
    {
      "cell_type": "code",
      "metadata": {
        "id": "LzRsJHqfSbsc",
        "colab_type": "code",
        "outputId": "ae89db29-5566-482f-835b-b8ca367477a0",
        "colab": {
          "base_uri": "https://localhost:8080/",
          "height": 34
        }
      },
      "source": [
        "model_32x32 = MA_P(36,36)\n",
        "model_32x32.load_state_dict(torch.load('MA_P_6_2_2.pth'))"
      ],
      "execution_count": 157,
      "outputs": [
        {
          "output_type": "execute_result",
          "data": {
            "text/plain": [
              "IncompatibleKeys(missing_keys=[], unexpected_keys=[])"
            ]
          },
          "metadata": {
            "tags": []
          },
          "execution_count": 157
        }
      ]
    },
    {
      "cell_type": "code",
      "metadata": {
        "id": "OVw6R2YXSa1t",
        "colab_type": "code",
        "outputId": "536f9798-52cf-4068-ca08-1ab2e1c69ca5",
        "colab": {
          "base_uri": "https://localhost:8080/",
          "height": 122
        }
      },
      "source": [
        "model_32x32.cuda()"
      ],
      "execution_count": 158,
      "outputs": [
        {
          "output_type": "execute_result",
          "data": {
            "text/plain": [
              "MA_P(\n",
              "  (h): Conv2d(5, 150, kernel_size=(3, 3), stride=(1, 1), padding=(1, 1))\n",
              "  (r): Conv2d(150, 1, kernel_size=(1, 1), stride=(1, 1), bias=False)\n",
              "  (q): Conv2d(1, 5, kernel_size=(3, 3), stride=(1, 1), padding=(1, 1), bias=False)\n",
              "  (sm): Softmax()\n",
              ")"
            ]
          },
          "metadata": {
            "tags": []
          },
          "execution_count": 158
        }
      ]
    },
    {
      "cell_type": "code",
      "metadata": {
        "id": "0jVeyX0qTHzZ",
        "colab_type": "code",
        "outputId": "c1e0dc02-875f-4306-defe-cc2858d62304",
        "colab": {
          "base_uri": "https://localhost:8080/",
          "height": 950
        }
      },
      "source": [
        "correct,total,traj_step = 0.0,0.0,0.0   \n",
        "imsize = 36\n",
        "max_rand_play= 0\n",
        "memory = []\n",
        "for i in range(50):\n",
        "    if i == 5 :\n",
        "      continue\n",
        "    \n",
        "    X = test_data[i][0].clone()\n",
        "    \n",
        "    Y = torch.zeros([3,36,36])\n",
        "    \n",
        "    Y[:,2:34,2:34] = X.clone()\n",
        "    \n",
        "    go = np.where(Y[1] == 1.0)\n",
        "    goal = np.column_stack([go[0],go[1]])\n",
        "    \n",
        "  \n",
        "        \n",
        "    #current_goal,current_total,traj,memory = agent_predict(model_28x28,Y.clone(),goal,imsize,max_rand_play)\n",
        "    correct_goal,total_goal, traj_length,traj = agent_prediction(model_32x32,Y.clone(),[],goal,imsize,0)\n",
        "    #correct_goal,total_goal, traj_length,traj = cooperative(model=model_32x32,X=Y.clone(),imsize=imsize)\n",
        "    \n",
        "    #for j in traj:\n",
        "     # for k in j:\n",
        "      #   print(k,end=\"->\")\n",
        "     # print(\"End\")\n",
        "      \n",
        "    print(i,correct_goal,total_goal)\n",
        "    \n",
        "    correct += correct_goal\n",
        "    total += total_goal\n",
        "    traj_step += traj_length\n",
        "    \n",
        "print(f'Goal Accuracy: {correct/total}')\n",
        "print(correct,total)\n",
        "print(f'Average traj step length : {traj_step/50}')\n",
        "print(traj_step,50)"
      ],
      "execution_count": 161,
      "outputs": [
        {
          "output_type": "stream",
          "text": [
            "0 2.0 5\n",
            "1 3.0 4\n",
            "2 2.0 6\n",
            "3 2.0 4\n",
            "4 4.0 6\n",
            "6 1.0 2\n",
            "7 4.0 5\n",
            "8 2.0 5\n",
            "9 1.0 4\n",
            "10 0.0 2\n",
            "11 2.0 2\n",
            "12 1.0 2\n",
            "13 1.0 4\n",
            "14 1.0 3\n",
            "15 2.0 2\n",
            "16 2.0 2\n",
            "17 1.0 5\n",
            "18 2.0 5\n",
            "19 0.0 4\n",
            "20 1.0 4\n",
            "21 1.0 3\n",
            "22 2.0 4\n",
            "23 1.0 4\n",
            "24 2.0 5\n",
            "25 2.0 2\n",
            "26 1.0 5\n",
            "27 2.0 3\n",
            "28 3.0 4\n",
            "29 1.0 3\n",
            "30 1.0 2\n",
            "31 1.0 3\n",
            "32 3.0 5\n",
            "33 0.0 3\n",
            "34 2.0 2\n",
            "35 1.0 3\n",
            "36 1.0 2\n",
            "37 4.0 6\n",
            "38 1.0 3\n",
            "39 2.0 3\n",
            "40 2.0 5\n",
            "41 2.0 3\n",
            "42 3.0 4\n",
            "43 0.0 2\n",
            "44 1.0 2\n",
            "45 1.0 3\n",
            "46 1.0 5\n",
            "47 3.0 5\n",
            "48 1.0 2\n",
            "49 1.0 2\n",
            "Goal Accuracy: 0.45977011494252873\n",
            "80.0 174.0\n",
            "Average traj step length : 7.38\n",
            "369.0 50\n"
          ],
          "name": "stdout"
        }
      ]
    },
    {
      "cell_type": "code",
      "metadata": {
        "id": "n6eRGJO1w24N",
        "colab_type": "code",
        "colab": {}
      },
      "source": [
        "test = []\n",
        "with np.load('Env_64x64.npz', mmap_mode='r',allow_pickle=True) as f:\n",
        "    test = f['arr_0']"
      ],
      "execution_count": 0,
      "outputs": []
    },
    {
      "cell_type": "markdown",
      "metadata": {
        "id": "xiPZmVPEvJE6",
        "colab_type": "text"
      },
      "source": [
        ""
      ]
    },
    {
      "cell_type": "code",
      "metadata": {
        "id": "fhS_YSQRp3Yi",
        "colab_type": "code",
        "colab": {}
      },
      "source": [
        "test_data = []\n",
        "\n",
        "for i in test:\n",
        "    env = -1 *(i[0] == 0) + 1.0\n",
        "    goal = (i[0] == 0.5) + 0.0\n",
        "    Agent = i[1]\n",
        "    domain = np.array([env,goal,Agent])\n",
        "    \n",
        "    test_data.append([torch.tensor(domain.copy())])"
      ],
      "execution_count": 0,
      "outputs": []
    },
    {
      "cell_type": "code",
      "metadata": {
        "id": "NscQbBuKp-WI",
        "colab_type": "code",
        "outputId": "840d8809-586e-4a93-a00d-181cf737fb2a",
        "colab": {
          "base_uri": "https://localhost:8080/",
          "height": 34
        }
      },
      "source": [
        "model_64x64 = MA_P(64,68)\n",
        "model_64x64.load_state_dict(torch.load('MA_P_6_2_2.pth'))"
      ],
      "execution_count": 168,
      "outputs": [
        {
          "output_type": "execute_result",
          "data": {
            "text/plain": [
              "IncompatibleKeys(missing_keys=[], unexpected_keys=[])"
            ]
          },
          "metadata": {
            "tags": []
          },
          "execution_count": 168
        }
      ]
    },
    {
      "cell_type": "code",
      "metadata": {
        "id": "XzPz0uF3qFMp",
        "colab_type": "code",
        "outputId": "d5be0a9e-e1d0-40bd-9f4b-b0f4ed54cdbb",
        "colab": {
          "base_uri": "https://localhost:8080/",
          "height": 122
        }
      },
      "source": [
        "model_64x64.cuda()"
      ],
      "execution_count": 169,
      "outputs": [
        {
          "output_type": "execute_result",
          "data": {
            "text/plain": [
              "MA_P(\n",
              "  (h): Conv2d(5, 150, kernel_size=(3, 3), stride=(1, 1), padding=(1, 1))\n",
              "  (r): Conv2d(150, 1, kernel_size=(1, 1), stride=(1, 1), bias=False)\n",
              "  (q): Conv2d(1, 5, kernel_size=(3, 3), stride=(1, 1), padding=(1, 1), bias=False)\n",
              "  (sm): Softmax()\n",
              ")"
            ]
          },
          "metadata": {
            "tags": []
          },
          "execution_count": 169
        }
      ]
    },
    {
      "cell_type": "code",
      "metadata": {
        "id": "eEXvKpJdq5Bj",
        "colab_type": "code",
        "outputId": "b9099d1f-8836-4a1b-d005-1a32f5e1a0da",
        "colab": {
          "base_uri": "https://localhost:8080/",
          "height": 987
        }
      },
      "source": [
        "correct,total,traj_step = 0.0,0.0,0.0   \n",
        "imsize = 68\n",
        "max_rand_play= 0\n",
        "memory = []\n",
        "for i in range(50):\n",
        "    if i == 17 :\n",
        "      continue\n",
        "    \n",
        "    X = test_data[i][0].clone()\n",
        "    \n",
        "    Y = torch.zeros([3,68,68])\n",
        "    \n",
        "    Y[:,2:66,2:66] = X.clone()\n",
        "    \n",
        "    go = np.where(Y[1] == 1.0)\n",
        "    goal = np.column_stack([go[0],go[1]])\n",
        "    \n",
        "  \n",
        "        \n",
        "    #current_goal,current_total,traj,memory = agent_predict(model_28x28,Y.clone(),goal,imsize,max_rand_play)\n",
        "    #correct_goal,total_goal, traj_length,traj = agent_prediction(model_64x64,Y.clone(),[],goal,imsize,0)\n",
        "    correct_goal,total_goal, traj_length,traj = cooperative(model=model_64x64,X=Y.clone(),imsize=imsize)\n",
        "    \n",
        "    #for j in traj:\n",
        "     # for k in j:\n",
        "      #   print(k,end=\"->\")\n",
        "      #print(\"End\")\n",
        "      \n",
        "    print(i,correct_goal,total_goal)\n",
        "    \n",
        "    correct += correct_goal\n",
        "    total += total_goal\n",
        "    traj_step += traj_length\n",
        "    \n",
        "print(f'Goal Accuracy: {correct/total}')\n",
        "print(correct,total)\n",
        "print(f'Average traj step length : {traj_step/50}')\n",
        "print(traj_step,50)"
      ],
      "execution_count": 172,
      "outputs": [
        {
          "output_type": "stream",
          "text": [
            "/usr/local/lib/python3.6/dist-packages/ipykernel_launcher.py:31: UserWarning: To copy construct from a tensor, it is recommended to use sourceTensor.clone().detach() or sourceTensor.clone().detach().requires_grad_(True), rather than torch.tensor(sourceTensor).\n"
          ],
          "name": "stderr"
        },
        {
          "output_type": "stream",
          "text": [
            "0 4 4\n",
            "1 3 3\n",
            "2 4 4\n",
            "3 4 4\n",
            "4 5 5\n",
            "5 5 5\n",
            "6 5 5\n",
            "7 5 5\n",
            "8 6 6\n",
            "9 3 3\n",
            "10 3 3\n",
            "11 3 3\n",
            "12 3 3\n",
            "13 3 4\n",
            "14 4 4\n",
            "15 3 4\n",
            "16 3 3\n",
            "18 4 4\n",
            "19 4 4\n",
            "20 4 5\n",
            "21 4 4\n",
            "22 3 3\n",
            "23 4 5\n",
            "24 3 3\n",
            "25 3 3\n",
            "26 6 6\n",
            "27 6 7\n",
            "28 3 4\n",
            "29 4 4\n",
            "30 5 5\n",
            "31 4 4\n",
            "32 4 4\n",
            "33 3 3\n",
            "34 6 6\n",
            "35 4 4\n",
            "36 3 3\n",
            "37 6 6\n",
            "38 4 5\n",
            "39 5 5\n",
            "40 5 5\n",
            "41 4 4\n",
            "42 4 4\n",
            "43 4 4\n",
            "44 6 6\n",
            "45 4 4\n",
            "46 3 3\n",
            "47 6 6\n",
            "48 5 5\n",
            "49 3 3\n",
            "Goal Accuracy: 0.9665071770334929\n",
            "202.0 209.0\n",
            "Average traj step length : 41.1\n",
            "2055.0 50\n"
          ],
          "name": "stdout"
        }
      ]
    },
    {
      "cell_type": "code",
      "metadata": {
        "id": "x2AnaNH0SBvC",
        "colab_type": "code",
        "outputId": "7d8e7160-e315-48da-8519-6957d85aab84",
        "colab": {
          "base_uri": "https://localhost:8080/",
          "height": 34
        }
      },
      "source": [
        "3*28*28"
      ],
      "execution_count": 0,
      "outputs": [
        {
          "output_type": "execute_result",
          "data": {
            "text/plain": [
              "2352"
            ]
          },
          "metadata": {
            "tags": []
          },
          "execution_count": 137
        }
      ]
    },
    {
      "cell_type": "code",
      "metadata": {
        "id": "9QW9HhxHr1bB",
        "colab_type": "code",
        "colab": {}
      },
      "source": [
        "test = []\n",
        "with np.load('Env_80x80.npz', mmap_mode='r') as f:\n",
        "    test = f['arr_0']"
      ],
      "execution_count": 0,
      "outputs": []
    },
    {
      "cell_type": "code",
      "metadata": {
        "id": "CLufApGor-U-",
        "colab_type": "code",
        "colab": {}
      },
      "source": [
        "test_data = []\n",
        "\n",
        "for i in test:\n",
        "    env = -1 *(i[0] == 0) + 1.0\n",
        "    goal = (i[0] == 0.5) + 0.0\n",
        "    Agent = i[1]\n",
        "    domain = np.array([env,goal,Agent])\n",
        "    \n",
        "    test_data.append([torch.tensor(domain.copy())])"
      ],
      "execution_count": 0,
      "outputs": []
    },
    {
      "cell_type": "code",
      "metadata": {
        "id": "7y3rdWcE4WNt",
        "colab_type": "code",
        "outputId": "cbd2f3fc-f85d-4df5-ca7a-0fa5a71a090b",
        "colab": {
          "base_uri": "https://localhost:8080/",
          "height": 122
        }
      },
      "source": [
        "model_80x80 = MA_P(84,84)\n",
        "model_80x80.load_state_dict(torch.load('MA_P_2_9_2.pth'))\n",
        "model_80x80.cuda()"
      ],
      "execution_count": 0,
      "outputs": [
        {
          "output_type": "execute_result",
          "data": {
            "text/plain": [
              "MA_P(\n",
              "  (h): Conv2d(3, 150, kernel_size=(3, 3), stride=(1, 1), padding=(1, 1))\n",
              "  (r): Conv2d(150, 1, kernel_size=(1, 1), stride=(1, 1), bias=False)\n",
              "  (q): Conv2d(1, 5, kernel_size=(3, 3), stride=(1, 1), padding=(1, 1), bias=False)\n",
              "  (sm): Softmax()\n",
              ")"
            ]
          },
          "metadata": {
            "tags": []
          },
          "execution_count": 206
        }
      ]
    },
    {
      "cell_type": "code",
      "metadata": {
        "colab_type": "code",
        "id": "bfx-HtDaZ68R",
        "outputId": "df12f53e-1bdb-4bf3-8f47-f63f4e69dd01",
        "colab": {
          "base_uri": "https://localhost:8080/",
          "height": 52
        }
      },
      "source": [
        "correct_goal,total_goal = 0.0,0.0   \n",
        "imsize = 84\n",
        "max_rand_play= 0\n",
        "for i in range(50):\n",
        "   \n",
        "    X = test_data[i][0].clone()\n",
        "    \n",
        "    Y = torch.zeros([3,imsize,imsize])\n",
        "    Y[:,2:imsize-2,2:imsize-2] = X\n",
        "    \n",
        "    go = np.where(Y[1] == 1.0)\n",
        "    goal = np.column_stack([go[0],go[1]])\n",
        "    \n",
        "        \n",
        "    current_goal,current_total,traj,_ = agent_predict(model_80x80,Y.clone(),goal,imsize,max_rand_play)\n",
        "    \n",
        "    correct_goal += current_goal\n",
        "    total_goal += current_total\n",
        "    \n",
        "print(f'Goal Accuracy: {correct_goal/total_goal}')\n",
        "print(correct_goal,total_goal)"
      ],
      "execution_count": 0,
      "outputs": [
        {
          "output_type": "stream",
          "text": [
            "Goal Accuracy: 0.7871621621621622\n",
            "233.0 296.0\n"
          ],
          "name": "stdout"
        }
      ]
    },
    {
      "cell_type": "code",
      "metadata": {
        "id": "xH6TTqRq5MRj",
        "colab_type": "code",
        "colab": {}
      },
      "source": [
        "test = []\n",
        "with np.load('Env_128x128.npz', mmap_mode='r') as f:\n",
        "    test = f['arr_0']"
      ],
      "execution_count": 0,
      "outputs": []
    },
    {
      "cell_type": "code",
      "metadata": {
        "id": "z-ART3Dj7OYH",
        "colab_type": "code",
        "colab": {}
      },
      "source": [
        "test_data = []\n",
        "\n",
        "for i in test:\n",
        "    env = -1 *(i[0] == 0) + 1.0\n",
        "    goal = (i[0] == 0.5) + 0.0\n",
        "    Agent = i[1]\n",
        "    domain = np.array([env,goal,Agent])\n",
        "    \n",
        "    test_data.append([torch.tensor(domain.copy())])"
      ],
      "execution_count": 0,
      "outputs": []
    },
    {
      "cell_type": "code",
      "metadata": {
        "id": "3RNgthkCIVHP",
        "colab_type": "code",
        "outputId": "19d4c1b7-e98d-472b-aed5-c9aef5d00691",
        "colab": {
          "base_uri": "https://localhost:8080/",
          "height": 122
        }
      },
      "source": [
        "model_128x128 = MA_P(88,130)\n",
        "model_128x128.load_state_dict(torch.load('MA_P_2_9_2.pth'))\n",
        "model_128x128.cuda()"
      ],
      "execution_count": 0,
      "outputs": [
        {
          "output_type": "execute_result",
          "data": {
            "text/plain": [
              "MA_P(\n",
              "  (h): Conv2d(3, 150, kernel_size=(3, 3), stride=(1, 1), padding=(1, 1))\n",
              "  (r): Conv2d(150, 1, kernel_size=(1, 1), stride=(1, 1), bias=False)\n",
              "  (q): Conv2d(1, 5, kernel_size=(3, 3), stride=(1, 1), padding=(1, 1), bias=False)\n",
              "  (sm): Softmax()\n",
              ")"
            ]
          },
          "metadata": {
            "tags": []
          },
          "execution_count": 14
        }
      ]
    },
    {
      "cell_type": "code",
      "metadata": {
        "id": "xoKao8Vbc-Kr",
        "colab_type": "code",
        "outputId": "505938cc-750e-4a1f-cd25-b5e908a0b8e4",
        "colab": {
          "base_uri": "https://localhost:8080/",
          "height": 167
        }
      },
      "source": [
        ""
      ],
      "execution_count": 0,
      "outputs": [
        {
          "output_type": "error",
          "ename": "NameError",
          "evalue": "ignored",
          "traceback": [
            "\u001b[0;31m---------------------------------------------------------------------------\u001b[0m",
            "\u001b[0;31mNameError\u001b[0m                                 Traceback (most recent call last)",
            "\u001b[0;32m<ipython-input-19-64eaa21e8563>\u001b[0m in \u001b[0;36m<module>\u001b[0;34m()\u001b[0m\n\u001b[0;32m----> 1\u001b[0;31m \u001b[0mdevice\u001b[0m \u001b[0;34m=\u001b[0m \u001b[0mtorch\u001b[0m\u001b[0;34m.\u001b[0m\u001b[0mdevice\u001b[0m\u001b[0;34m(\u001b[0m\u001b[0mcpu\u001b[0m\u001b[0;34m)\u001b[0m\u001b[0;34m\u001b[0m\u001b[0;34m\u001b[0m\u001b[0m\n\u001b[0m",
            "\u001b[0;31mNameError\u001b[0m: name 'cpu' is not defined"
          ]
        }
      ]
    },
    {
      "cell_type": "code",
      "metadata": {
        "id": "Frbvydpp59Y_",
        "colab_type": "code",
        "outputId": "341dc1da-e2b5-4f3d-e084-3bbd1829278d",
        "colab": {
          "base_uri": "https://localhost:8080/",
          "height": 422
        }
      },
      "source": [
        "correct_goal,total_goal = 0.0,0.0   \n",
        "imsize = 130\n",
        "max_rand_play= 0\n",
        "for i in range(50):\n",
        "    print(i)\n",
        "    X = test_data[i][0].clone()\n",
        "    Y = torch.zeros([3,imsize,imsize])\n",
        "    Y[:,1:imsize-1,1:imsize-1] = X\n",
        "    \n",
        "    go = np.where(Y[1] == 1.0)\n",
        "    goal = np.column_stack([go[0],go[1]])\n",
        "    \n",
        "        \n",
        "    current_goal,current_total,traj,_ = agent_predict(model_128x128,Y.clone(),goal,imsize,max_rand_play)\n",
        "    \n",
        "    correct_goal += current_goal\n",
        "    total_goal += current_total\n",
        "    \n",
        "print(f'Goal Accuracy: {correct_goal/total_goal}')\n",
        "print(correct_goal,total_goal)"
      ],
      "execution_count": 0,
      "outputs": [
        {
          "output_type": "stream",
          "text": [
            "0\n"
          ],
          "name": "stdout"
        },
        {
          "output_type": "error",
          "ename": "RuntimeError",
          "evalue": "ignored",
          "traceback": [
            "\u001b[0;31m---------------------------------------------------------------------------\u001b[0m",
            "\u001b[0;31mRuntimeError\u001b[0m                              Traceback (most recent call last)",
            "\u001b[0;32m<ipython-input-16-e924cdcad12b>\u001b[0m in \u001b[0;36m<module>\u001b[0;34m()\u001b[0m\n\u001b[1;32m     12\u001b[0m \u001b[0;34m\u001b[0m\u001b[0m\n\u001b[1;32m     13\u001b[0m \u001b[0;34m\u001b[0m\u001b[0m\n\u001b[0;32m---> 14\u001b[0;31m     \u001b[0mcurrent_goal\u001b[0m\u001b[0;34m,\u001b[0m\u001b[0mcurrent_total\u001b[0m\u001b[0;34m,\u001b[0m\u001b[0mtraj\u001b[0m\u001b[0;34m,\u001b[0m\u001b[0m_\u001b[0m \u001b[0;34m=\u001b[0m \u001b[0magent_predict\u001b[0m\u001b[0;34m(\u001b[0m\u001b[0mmodel_128x128\u001b[0m\u001b[0;34m,\u001b[0m\u001b[0mY\u001b[0m\u001b[0;34m.\u001b[0m\u001b[0mclone\u001b[0m\u001b[0;34m(\u001b[0m\u001b[0;34m)\u001b[0m\u001b[0;34m,\u001b[0m\u001b[0mgoal\u001b[0m\u001b[0;34m,\u001b[0m\u001b[0mimsize\u001b[0m\u001b[0;34m,\u001b[0m\u001b[0mmax_rand_play\u001b[0m\u001b[0;34m)\u001b[0m\u001b[0;34m\u001b[0m\u001b[0;34m\u001b[0m\u001b[0m\n\u001b[0m\u001b[1;32m     15\u001b[0m \u001b[0;34m\u001b[0m\u001b[0m\n\u001b[1;32m     16\u001b[0m     \u001b[0mcorrect_goal\u001b[0m \u001b[0;34m+=\u001b[0m \u001b[0mcurrent_goal\u001b[0m\u001b[0;34m\u001b[0m\u001b[0;34m\u001b[0m\u001b[0m\n",
            "\u001b[0;32m<ipython-input-7-661b811667cb>\u001b[0m in \u001b[0;36magent_predict\u001b[0;34m(model, dom, goal, imsize, max_random_play)\u001b[0m\n\u001b[1;32m     39\u001b[0m                 \u001b[0mS1\u001b[0m \u001b[0;34m=\u001b[0m \u001b[0mS1\u001b[0m\u001b[0;34m.\u001b[0m\u001b[0mto\u001b[0m\u001b[0;34m(\u001b[0m\u001b[0mdevice\u001b[0m\u001b[0;34m)\u001b[0m\u001b[0;34m\u001b[0m\u001b[0;34m\u001b[0m\u001b[0m\n\u001b[1;32m     40\u001b[0m                 \u001b[0mS2\u001b[0m \u001b[0;34m=\u001b[0m \u001b[0mS2\u001b[0m\u001b[0;34m.\u001b[0m\u001b[0mto\u001b[0m\u001b[0;34m(\u001b[0m\u001b[0mdevice\u001b[0m\u001b[0;34m)\u001b[0m\u001b[0;34m\u001b[0m\u001b[0;34m\u001b[0m\u001b[0m\n\u001b[0;32m---> 41\u001b[0;31m                 \u001b[0moutput\u001b[0m\u001b[0;34m,\u001b[0m\u001b[0mprediction\u001b[0m\u001b[0;34m,\u001b[0m\u001b[0mv_in\u001b[0m\u001b[0;34m,\u001b[0m\u001b[0mv_out\u001b[0m\u001b[0;34m=\u001b[0m \u001b[0mmodel\u001b[0m\u001b[0;34m(\u001b[0m\u001b[0mInput\u001b[0m\u001b[0;34m,\u001b[0m\u001b[0mS1\u001b[0m\u001b[0;34m,\u001b[0m\u001b[0mS2\u001b[0m\u001b[0;34m)\u001b[0m\u001b[0;34m\u001b[0m\u001b[0;34m\u001b[0m\u001b[0m\n\u001b[0m\u001b[1;32m     42\u001b[0m                 \u001b[0mmemory\u001b[0m\u001b[0;34m[\u001b[0m\u001b[0mi\u001b[0m\u001b[0;34m]\u001b[0m\u001b[0;34m.\u001b[0m\u001b[0mappend\u001b[0m\u001b[0;34m(\u001b[0m\u001b[0mnp\u001b[0m\u001b[0;34m.\u001b[0m\u001b[0marray\u001b[0m\u001b[0;34m(\u001b[0m\u001b[0;34m[\u001b[0m\u001b[0mv_in\u001b[0m\u001b[0;34m,\u001b[0m\u001b[0mv_out\u001b[0m\u001b[0;34m]\u001b[0m\u001b[0;34m)\u001b[0m\u001b[0;34m)\u001b[0m\u001b[0;34m\u001b[0m\u001b[0;34m\u001b[0m\u001b[0m\n\u001b[1;32m     43\u001b[0m                 \u001b[0m_\u001b[0m\u001b[0;34m,\u001b[0m\u001b[0mindex\u001b[0m \u001b[0;34m=\u001b[0m \u001b[0mtorch\u001b[0m\u001b[0;34m.\u001b[0m\u001b[0mmax\u001b[0m\u001b[0;34m(\u001b[0m\u001b[0moutput\u001b[0m\u001b[0;34m,\u001b[0m\u001b[0mdim\u001b[0m\u001b[0;34m=\u001b[0m\u001b[0;36m1\u001b[0m\u001b[0;34m)\u001b[0m\u001b[0;34m\u001b[0m\u001b[0;34m\u001b[0m\u001b[0m\n",
            "\u001b[0;32m/usr/local/lib/python3.6/dist-packages/torch/nn/modules/module.py\u001b[0m in \u001b[0;36m__call__\u001b[0;34m(self, *input, **kwargs)\u001b[0m\n\u001b[1;32m    491\u001b[0m             \u001b[0mresult\u001b[0m \u001b[0;34m=\u001b[0m \u001b[0mself\u001b[0m\u001b[0;34m.\u001b[0m\u001b[0m_slow_forward\u001b[0m\u001b[0;34m(\u001b[0m\u001b[0;34m*\u001b[0m\u001b[0minput\u001b[0m\u001b[0;34m,\u001b[0m \u001b[0;34m**\u001b[0m\u001b[0mkwargs\u001b[0m\u001b[0;34m)\u001b[0m\u001b[0;34m\u001b[0m\u001b[0;34m\u001b[0m\u001b[0m\n\u001b[1;32m    492\u001b[0m         \u001b[0;32melse\u001b[0m\u001b[0;34m:\u001b[0m\u001b[0;34m\u001b[0m\u001b[0;34m\u001b[0m\u001b[0m\n\u001b[0;32m--> 493\u001b[0;31m             \u001b[0mresult\u001b[0m \u001b[0;34m=\u001b[0m \u001b[0mself\u001b[0m\u001b[0;34m.\u001b[0m\u001b[0mforward\u001b[0m\u001b[0;34m(\u001b[0m\u001b[0;34m*\u001b[0m\u001b[0minput\u001b[0m\u001b[0;34m,\u001b[0m \u001b[0;34m**\u001b[0m\u001b[0mkwargs\u001b[0m\u001b[0;34m)\u001b[0m\u001b[0;34m\u001b[0m\u001b[0;34m\u001b[0m\u001b[0m\n\u001b[0m\u001b[1;32m    494\u001b[0m         \u001b[0;32mfor\u001b[0m \u001b[0mhook\u001b[0m \u001b[0;32min\u001b[0m \u001b[0mself\u001b[0m\u001b[0;34m.\u001b[0m\u001b[0m_forward_hooks\u001b[0m\u001b[0;34m.\u001b[0m\u001b[0mvalues\u001b[0m\u001b[0;34m(\u001b[0m\u001b[0;34m)\u001b[0m\u001b[0;34m:\u001b[0m\u001b[0;34m\u001b[0m\u001b[0;34m\u001b[0m\u001b[0m\n\u001b[1;32m    495\u001b[0m             \u001b[0mhook_result\u001b[0m \u001b[0;34m=\u001b[0m \u001b[0mhook\u001b[0m\u001b[0;34m(\u001b[0m\u001b[0mself\u001b[0m\u001b[0;34m,\u001b[0m \u001b[0minput\u001b[0m\u001b[0;34m,\u001b[0m \u001b[0mresult\u001b[0m\u001b[0;34m)\u001b[0m\u001b[0;34m\u001b[0m\u001b[0;34m\u001b[0m\u001b[0m\n",
            "\u001b[0;32m<ipython-input-8-e1b46082d432>\u001b[0m in \u001b[0;36mforward\u001b[0;34m(self, X, S1, S2)\u001b[0m\n\u001b[1;32m     39\u001b[0m                 \u001b[0mtorch\u001b[0m\u001b[0;34m.\u001b[0m\u001b[0mcat\u001b[0m\u001b[0;34m(\u001b[0m\u001b[0;34m[\u001b[0m\u001b[0mself\u001b[0m\u001b[0;34m.\u001b[0m\u001b[0mq\u001b[0m\u001b[0;34m.\u001b[0m\u001b[0mweight\u001b[0m\u001b[0;34m,\u001b[0m \u001b[0mself\u001b[0m\u001b[0;34m.\u001b[0m\u001b[0mw\u001b[0m\u001b[0;34m]\u001b[0m\u001b[0;34m,\u001b[0m \u001b[0;36m1\u001b[0m\u001b[0;34m)\u001b[0m\u001b[0;34m,\u001b[0m\u001b[0;34m\u001b[0m\u001b[0;34m\u001b[0m\u001b[0m\n\u001b[1;32m     40\u001b[0m                 \u001b[0mstride\u001b[0m\u001b[0;34m=\u001b[0m\u001b[0;36m1\u001b[0m\u001b[0;34m,\u001b[0m\u001b[0;34m\u001b[0m\u001b[0;34m\u001b[0m\u001b[0m\n\u001b[0;32m---> 41\u001b[0;31m                 padding=1)\n\u001b[0m\u001b[1;32m     42\u001b[0m             \u001b[0mv\u001b[0m\u001b[0;34m,\u001b[0m \u001b[0m_\u001b[0m \u001b[0;34m=\u001b[0m \u001b[0mtorch\u001b[0m\u001b[0;34m.\u001b[0m\u001b[0mmax\u001b[0m\u001b[0;34m(\u001b[0m\u001b[0mq\u001b[0m\u001b[0;34m,\u001b[0m \u001b[0mdim\u001b[0m\u001b[0;34m=\u001b[0m\u001b[0;36m1\u001b[0m\u001b[0;34m,\u001b[0m \u001b[0mkeepdim\u001b[0m\u001b[0;34m=\u001b[0m\u001b[0;32mTrue\u001b[0m\u001b[0;34m)\u001b[0m\u001b[0;34m\u001b[0m\u001b[0;34m\u001b[0m\u001b[0m\n\u001b[1;32m     43\u001b[0m \u001b[0;34m\u001b[0m\u001b[0m\n",
            "\u001b[0;31mRuntimeError\u001b[0m: CUDA out of memory. Tried to allocate 2.00 MiB (GPU 0; 14.73 GiB total capacity; 13.17 GiB already allocated; 3.94 MiB free; 811.53 MiB cached)"
          ]
        }
      ]
    },
    {
      "cell_type": "code",
      "metadata": {
        "id": "IPxcXeL56G9T",
        "colab_type": "code",
        "outputId": "70246b51-f726-43b6-a67b-91bb7e4d24c8",
        "colab": {
          "base_uri": "https://localhost:8080/",
          "height": 34
        }
      },
      "source": [
        "X>r"
      ],
      "execution_count": 0,
      "outputs": [
        {
          "output_type": "execute_result",
          "data": {
            "text/plain": [
              "0"
            ]
          },
          "metadata": {
            "tags": []
          },
          "execution_count": 16
        }
      ]
    },
    {
      "cell_type": "code",
      "metadata": {
        "id": "Jxrm3AxcexY_",
        "colab_type": "code",
        "colab": {}
      },
      "source": [
        ""
      ],
      "execution_count": 0,
      "outputs": []
    }
  ]
}